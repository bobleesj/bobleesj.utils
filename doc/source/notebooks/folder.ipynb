{
 "cells": [
  {
   "cell_type": "markdown",
   "id": "e07107e3",
   "metadata": {
    "tags": [
     "raises-error"
    ]
   },
   "source": [
    "# Folder\n",
    "\n",
    "`folder.py` offers helper functions to work folders and files."
   ]
  },
  {
   "cell_type": "code",
   "execution_count": null,
   "id": "518220bc",
   "metadata": {},
   "outputs": [],
   "source": [
    "from bobleesj.utils.io import folder"
   ]
  },
  {
   "cell_type": "code",
   "execution_count": null,
   "id": "03a76bc9",
   "metadata": {},
   "outputs": [],
   "source": [
    "# Get a list of file paths from the given directory\n",
    "paths = folder.get_file_paths(\n",
    "    \"/\", ext=\".pdf\")"
   ]
  },
  {
   "cell_type": "code",
   "execution_count": null,
   "id": "25dbb5ef",
   "metadata": {},
   "outputs": [],
   "source": [
    "# Check whether the folder contains the specifiy file type\n",
    "folder.contains_file_type(\n",
    "    \"/\", ext=\".pdf\")"
   ]
  }
 ],
 "metadata": {
  "kernelspec": {
   "display_name": "bob-env",
   "language": "python",
   "name": "python3"
  },
  "language_info": {
   "name": "python",
   "version": "3.13.3"
  }
 },
 "nbformat": 4,
 "nbformat_minor": 5
}
