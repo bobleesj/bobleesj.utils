{
 "cells": [
  {
   "cell_type": "markdown",
   "id": "7bc5b84e",
   "metadata": {},
   "source": [
    "# Radius"
   ]
  },
  {
   "cell_type": "code",
   "execution_count": 10,
   "id": "8e9ae937",
   "metadata": {},
   "outputs": [],
   "source": [
    "from bobleesj.utils.sources import radius"
   ]
  },
  {
   "cell_type": "code",
   "execution_count": 11,
   "id": "066e92d8",
   "metadata": {},
   "outputs": [
    {
     "data": {
      "text/plain": [
       "{'Si': {'CIF': 1.176, 'Pauling_CN12': 1.316},\n",
       " 'Sc': {'CIF': 1.641, 'Pauling_CN12': 1.62},\n",
       " 'Fe': {'CIF': 1.242, 'Pauling_CN12': 1.26},\n",
       " 'Co': {'CIF': 1.25, 'Pauling_CN12': 1.252},\n",
       " 'Ni': {'CIF': 1.246, 'Pauling_CN12': 1.244},\n",
       " 'Ga': {'CIF': 1.243, 'Pauling_CN12': 1.408},\n",
       " 'Ge': {'CIF': 1.225, 'Pauling_CN12': 1.366},\n",
       " 'Y': {'CIF': 1.783, 'Pauling_CN12': 1.797},\n",
       " 'Ru': {'CIF': 1.324, 'Pauling_CN12': 1.336},\n",
       " 'Rh': {'CIF': 1.345, 'Pauling_CN12': 1.342},\n",
       " 'Pd': {'CIF': 1.376, 'Pauling_CN12': 1.373},\n",
       " 'In': {'CIF': 1.624, 'Pauling_CN12': 1.66},\n",
       " 'Sn': {'CIF': 1.511, 'Pauling_CN12': 1.62},\n",
       " 'Sb': {'CIF': 1.434, 'Pauling_CN12': 1.59},\n",
       " 'La': {'CIF': 1.871, 'Pauling_CN12': 1.871},\n",
       " 'Ce': {'CIF': 1.819, 'Pauling_CN12': 1.818},\n",
       " 'Pr': {'CIF': 1.82, 'Pauling_CN12': 1.824},\n",
       " 'Nd': {'CIF': 1.813, 'Pauling_CN12': 1.818},\n",
       " 'Sm': {'CIF': 1.793, 'Pauling_CN12': 1.85},\n",
       " 'Eu': {'CIF': 1.987, 'Pauling_CN12': 2.084},\n",
       " 'Gd': {'CIF': 1.787, 'Pauling_CN12': 1.795},\n",
       " 'Tb': {'CIF': 1.764, 'Pauling_CN12': 1.773},\n",
       " 'Dy': {'CIF': 1.752, 'Pauling_CN12': 1.77},\n",
       " 'Ho': {'CIF': 1.745, 'Pauling_CN12': 1.761},\n",
       " 'Er': {'CIF': 1.734, 'Pauling_CN12': 1.748},\n",
       " 'Tm': {'CIF': 1.726, 'Pauling_CN12': 1.743},\n",
       " 'Yb': {'CIF': 1.939, 'Pauling_CN12': 1.933},\n",
       " 'Lu': {'CIF': 1.718, 'Pauling_CN12': 1.738},\n",
       " 'Os': {'CIF': 1.337, 'Pauling_CN12': 1.35},\n",
       " 'Ir': {'CIF': 1.356, 'Pauling_CN12': 1.355},\n",
       " 'Pt': {'CIF': 1.387, 'Pauling_CN12': 1.385},\n",
       " 'Th': {'CIF': 1.798, 'Pauling_CN12': 1.795},\n",
       " 'U': {'CIF': 1.377, 'Pauling_CN12': 1.516},\n",
       " 'Al': {'CIF': 1.31, 'Pauling_CN12': 1.31},\n",
       " 'Mo': {'CIF': 1.362, 'Pauling_CN12': 1.386},\n",
       " 'Hf': {'CIF': 1.5635, 'Pauling_CN12': 1.585},\n",
       " 'Ta': {'CIF': 1.43, 'Pauling_CN12': 1.457},\n",
       " 'Ag': {'CIF': 1.443, 'Pauling_CN12': 1.442},\n",
       " 'As': {'CIF': 1.247, 'Pauling_CN12': 1.39},\n",
       " 'Au': {'CIF': 1.435, 'Pauling_CN12': 1.439},\n",
       " 'B': {'CIF': 0.807, 'Pauling_CN12': 0.98},\n",
       " 'Ba': {'CIF': 1.994, 'Pauling_CN12': 2.215},\n",
       " 'Be': {'CIF': 1.072, 'Pauling_CN12': 1.123},\n",
       " 'Bi': {'CIF': 1.53, 'Pauling_CN12': 1.7},\n",
       " 'C': {'CIF': 0.76, 'Pauling_CN12': 0.914},\n",
       " 'Ca': {'CIF': 1.716, 'Pauling_CN12': 1.97},\n",
       " 'Cd': {'CIF': 1.49, 'Pauling_CN12': 1.543},\n",
       " 'Cr': {'CIF': 1.204, 'Pauling_CN12': 1.357},\n",
       " 'Cs': {'CIF': 1.894, 'Pauling_CN12': 2.67},\n",
       " 'Cu': {'CIF': 1.275, 'Pauling_CN12': 1.276},\n",
       " 'Hg': {'CIF': 1.45, 'Pauling_CN12': 1.57},\n",
       " 'K': {'CIF': 1.823, 'Pauling_CN12': 2.349},\n",
       " 'Li': {'CIF': 1.488, 'Pauling_CN12': 1.549},\n",
       " 'Mg': {'CIF': 1.587, 'Pauling_CN12': 1.598},\n",
       " 'Mn': {'CIF': 1.164, 'Pauling_CN12': 1.306},\n",
       " 'Na': {'CIF': 1.662, 'Pauling_CN12': 1.896},\n",
       " 'Nb': {'CIF': 1.426, 'Pauling_CN12': 1.456},\n",
       " 'P': {'CIF': 1.123, 'Pauling_CN12': 1.28},\n",
       " 'Pb': {'CIF': 1.725, 'Pauling_CN12': 1.746},\n",
       " 'Rb': {'CIF': 1.781, 'Pauling_CN12': 2.48},\n",
       " 'Re': {'CIF': 1.345, 'Pauling_CN12': 1.373},\n",
       " 'S': {'CIF': 1.074, 'Pauling_CN12': 1.27},\n",
       " 'Se': {'CIF': 1.237, 'Pauling_CN12': 1.4},\n",
       " 'Sr': {'CIF': 1.977, 'Pauling_CN12': 2.148},\n",
       " 'Te': {'CIF': 1.417, 'Pauling_CN12': 1.6},\n",
       " 'Ti': {'CIF': 1.406, 'Pauling_CN12': 1.467},\n",
       " 'Tl': {'CIF': 1.663, 'Pauling_CN12': 1.712},\n",
       " 'V': {'CIF': 1.307, 'Pauling_CN12': 1.338},\n",
       " 'W': {'CIF': 1.364, 'Pauling_CN12': 1.394},\n",
       " 'Zn': {'CIF': 1.333, 'Pauling_CN12': 1.379},\n",
       " 'Zr': {'CIF': 1.553, 'Pauling_CN12': 1.597},\n",
       " 'N': {'CIF': 0.536, 'Pauling_CN12': 0.88},\n",
       " 'O': {'CIF': 0.611, 'Pauling_CN12': 1.115},\n",
       " 'F': {'CIF': 0.709, 'Pauling_CN12': 1.6},\n",
       " 'Cl': {'CIF': 0.968, 'Pauling_CN12': 1.448},\n",
       " 'Br': {'CIF': 1.141, 'Pauling_CN12': 1.659},\n",
       " 'I': {'CIF': 1.359, 'Pauling_CN12': 1.338},\n",
       " 'Tc': {'CIF': 1.355, 'Pauling_CN12': 1.803},\n",
       " 'Pm': {'CIF': 1.797, 'Pauling_CN12': 1.635}}"
      ]
     },
     "execution_count": 11,
     "metadata": {},
     "output_type": "execute_result"
    }
   ],
   "source": [
    "# Get all available radius data\n",
    "radius.get_radius_data()"
   ]
  },
  {
   "cell_type": "code",
   "execution_count": 12,
   "id": "f14d95a8",
   "metadata": {},
   "outputs": [
    {
     "data": {
      "text/plain": [
       "{'CIF': 1.242, 'Pauling_CN12': 1.26}"
      ]
     },
     "execution_count": 12,
     "metadata": {},
     "output_type": "execute_result"
    }
   ],
   "source": [
    "# Get the radius for a specific element, e.g., Iron (Fe)\n",
    "radius.get_radius(\"Fe\")"
   ]
  },
  {
   "cell_type": "code",
   "execution_count": 13,
   "id": "9f663a69",
   "metadata": {},
   "outputs": [
    {
     "data": {
      "text/plain": [
       "True"
      ]
     },
     "execution_count": 13,
     "metadata": {},
     "output_type": "execute_result"
    }
   ],
   "source": [
    "# Check whether the radius data is available for a specific element\n",
    "radius.is_supported(\"Fe\")"
   ]
  },
  {
   "cell_type": "code",
   "execution_count": 14,
   "id": "2df908c6",
   "metadata": {},
   "outputs": [
    {
     "data": {
      "text/plain": [
       "False"
      ]
     },
     "execution_count": 14,
     "metadata": {},
     "output_type": "execute_result"
    }
   ],
   "source": [
    "radius.is_supported(\"H\")"
   ]
  },
  {
   "cell_type": "code",
   "execution_count": null,
   "id": "015390b4",
   "metadata": {},
   "outputs": [],
   "source": [
    "# Get the list of elements with available radius data\n",
    "radius.get_supported_elements()"
   ]
  }
 ],
 "metadata": {
  "kernelspec": {
   "display_name": "bob-env",
   "language": "python",
   "name": "python3"
  },
  "language_info": {
   "codemirror_mode": {
    "name": "ipython",
    "version": 3
   },
   "file_extension": ".py",
   "mimetype": "text/x-python",
   "name": "python",
   "nbconvert_exporter": "python",
   "pygments_lexer": "ipython3",
   "version": "3.13.3"
  }
 },
 "nbformat": 4,
 "nbformat_minor": 5
}
