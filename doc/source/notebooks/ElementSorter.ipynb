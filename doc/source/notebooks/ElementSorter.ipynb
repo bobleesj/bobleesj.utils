{
 "cells": [
  {
   "cell_type": "markdown",
   "id": "2b317c5d",
   "metadata": {},
   "source": [
    "# ElementSorter"
   ]
  },
  {
   "cell_type": "markdown",
   "id": "ceb55d7c",
   "metadata": {},
   "source": [
    "The goal is to sort a list of elements based on many methods."
   ]
  },
  {
   "cell_type": "code",
   "execution_count": 8,
   "id": "0f16a261",
   "metadata": {},
   "outputs": [],
   "source": [
    "from bobleesj.utils.sorters.element_sorter import ElementSorter"
   ]
  },
  {
   "cell_type": "markdown",
   "id": "d25874bd",
   "metadata": {},
   "source": [
    "## Method 1. By alphabetical order"
   ]
  },
  {
   "cell_type": "code",
   "execution_count": 9,
   "id": "0e14b553",
   "metadata": {},
   "outputs": [
    {
     "data": {
      "text/plain": [
       "('Si', 'Fe')"
      ]
     },
     "execution_count": 9,
     "metadata": {},
     "output_type": "execute_result"
    }
   ],
   "source": [
    "# Fe=55, Si=78\n",
    "element_sorter = ElementSorter()\n",
    "element_sorter.sort([\"Fe\", \"Si\"])"
   ]
  },
  {
   "cell_type": "markdown",
   "id": "d68e02d4",
   "metadata": {},
   "source": [
    "## Method 2. By custom label"
   ]
  },
  {
   "cell_type": "code",
   "execution_count": 10,
   "id": "b2d6c576",
   "metadata": {},
   "outputs": [],
   "source": [
    "label_mapping = {\n",
    "    2: {\"A\": [\"Fe\", \"Co\", \"Ni\"], \"B\": [\"Si\", \"Ga\", \"Ge\"]},\n",
    "    3: {\n",
    "        \"R\": [\"Sc\", \"Y\", \"La\"],\n",
    "        \"M\": [\"Fe\", \"Co\", \"Ni\"],\n",
    "        \"X\": [\"Si\", \"Ga\", \"Ge\"],\n",
    "    },\n",
    "    4: {\n",
    "        \"A\": [\"Sc\", \"Y\", \"La\"],\n",
    "        \"B\": [\"Fe\", \"Co\", \"Ni\"],\n",
    "        \"C\": [\"Si\", \"Ga\", \"Ge\"],\n",
    "        \"D\": [\"Gd\", \"Tb\", \"Dy\"],\n",
    "    },\n",
    "}"
   ]
  },
  {
   "cell_type": "code",
   "execution_count": null,
   "id": "4d039103",
   "metadata": {},
   "outputs": [],
   "source": [
    "element_sorter = ElementSorter(label_mapping=label_mapping)\n",
    "# You can optionally pass an Excel path instead of label mapping\n",
    "# element_sorter = ElementSorter(excel_path=\"path/to/excel.xlsx\")\n",
    "# Use the template Excel file provided in https://github.com/bobleesj/bobleesj.utils/blob/main/tests/data/sort/test-custom-labels.xlsx"
   ]
  },
  {
   "cell_type": "code",
   "execution_count": 12,
   "id": "3d25da69",
   "metadata": {},
   "outputs": [],
   "source": [
    "assert element_sorter.label_mapping == label_mapping"
   ]
  },
  {
   "cell_type": "code",
   "execution_count": 13,
   "id": "0b762f05",
   "metadata": {},
   "outputs": [],
   "source": [
    "test_cases = [\n",
    "    ([\"Fe\", \"Si\"], (\"Fe\", \"Si\")),\n",
    "    ([\"Si\", \"Fe\"], (\"Fe\", \"Si\")),\n",
    "    ([\"Ge\", \"Ni\"], (\"Ni\", \"Ge\")),\n",
    "    ([\"Ga\", \"Co\"], (\"Co\", \"Ga\")),\n",
    "]\n",
    "for input_elements, expected in test_cases:\n",
    "    assert element_sorter.sort(input_elements, method=\"custom\") == expected"
   ]
  },
  {
   "cell_type": "markdown",
   "id": "c9da9b0e",
   "metadata": {},
   "source": [
    "## Method 3. By Mendeleev number\n",
    "\n",
    "The list of Mendeleev numbers is sourced from `bobleesj.utils`."
   ]
  },
  {
   "cell_type": "code",
   "execution_count": 14,
   "id": "60a56dcb",
   "metadata": {},
   "outputs": [
    {
     "data": {
      "text/plain": [
       "('Si', 'Fe')"
      ]
     },
     "execution_count": 14,
     "metadata": {},
     "output_type": "execute_result"
    }
   ],
   "source": [
    "# Fe=55, Si=78\n",
    "element_sorter.sort([\"Fe\", \"Si\"], method=\"mendeleev\")"
   ]
  },
  {
   "cell_type": "code",
   "execution_count": 15,
   "id": "75a2a89d",
   "metadata": {},
   "outputs": [
    {
     "data": {
      "text/plain": [
       "('Fe', 'Si')"
      ]
     },
     "execution_count": 15,
     "metadata": {},
     "output_type": "execute_result"
    }
   ],
   "source": [
    "element_sorter.sort([\"Fe\", \"Si\"], method=\"mendeleev\", descending=False)"
   ]
  }
 ],
 "metadata": {
  "kernelspec": {
   "display_name": "test-env",
   "language": "python",
   "name": "python3"
  },
  "language_info": {
   "codemirror_mode": {
    "name": "ipython",
    "version": 3
   },
   "file_extension": ".py",
   "mimetype": "text/x-python",
   "name": "python",
   "nbconvert_exporter": "python",
   "pygments_lexer": "ipython3",
   "version": "3.13.5"
  }
 },
 "nbformat": 4,
 "nbformat_minor": 5
}
