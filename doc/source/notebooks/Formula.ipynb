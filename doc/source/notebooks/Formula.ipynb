{
 "cells": [
  {
   "cell_type": "markdown",
   "id": "788487a2",
   "metadata": {},
   "source": [
    "# Formula\n",
    "\n",
    "You can use common utility functions for sorting, normalizing a single formula to sorting, filtering, a list of formulas."
   ]
  },
  {
   "cell_type": "markdown",
   "id": "f7afb1c6",
   "metadata": {},
   "source": []
  },
  {
   "cell_type": "code",
   "execution_count": 373,
   "id": "c2a50ca7",
   "metadata": {},
   "outputs": [],
   "source": [
    "from bobleesj.utils.parsers.formula import Formula"
   ]
  },
  {
   "cell_type": "markdown",
   "id": "7360537b",
   "metadata": {},
   "source": [
    "Parse the given formula."
   ]
  },
  {
   "cell_type": "code",
   "execution_count": 374,
   "id": "3a21e217",
   "metadata": {},
   "outputs": [
    {
     "name": "stdout",
     "output_type": "stream",
     "text": [
      "Parsed formula: [('Nd', 1.0), ('Si', 2.0)]\n",
      "Elements: ['Nd', 'Si']\n",
      "Indices: [1.0, 2.0]\n",
      "Element count: 2\n",
      "Max, Min, Avg of indices: (2.0, 1.0, 1.5)\n"
     ]
    }
   ],
   "source": [
    "formula = Formula(\"NdSi2\")\n",
    "print(\"Parsed formula:\", formula.parsed_formula)\n",
    "print(\"Elements:\", formula.elements)\n",
    "print(\"Indices:\", formula.indices)\n",
    "print(\"Element count:\", formula.element_count)\n",
    "print(\"Max, Min, Avg of indices:\", formula.max_min_avg_index)"
   ]
  },
  {
   "cell_type": "markdown",
   "id": "f56f95d6",
   "metadata": {},
   "source": [
    "Normalize the formula, optionally round the indices."
   ]
  },
  {
   "cell_type": "code",
   "execution_count": 375,
   "id": "6afff8ca",
   "metadata": {},
   "outputs": [
    {
     "name": "stdout",
     "output_type": "stream",
     "text": [
      "Normalized indices: [0.333333, 0.666667]\n",
      "Normalized formula: Nd0.333333Si0.666667\n",
      "Normalized parsed formula: [('Nd', 0.333333), ('Si', 0.666667)]\n",
      "Normalized indices rounded: [0.333, 0.667]\n",
      "Normalized formula rounded: Nd0.333Si0.667\n",
      "Normalized parsed formula rounded: [('Nd', 0.333), ('Si', 0.667)]\n"
     ]
    }
   ],
   "source": [
    "print(\"Normalized indices:\", formula.get_normalized_indices())\n",
    "print(\"Normalized formula:\", formula.get_normalized_formula())\n",
    "print(\"Normalized parsed formula:\", formula.get_normalized_parsed_formula())\n",
    "# Round to 3 decimal places\n",
    "print(\"Normalized indices rounded:\", formula.get_normalized_indices(decimals=3))\n",
    "print(\"Normalized formula rounded:\", formula.get_normalized_formula(decimals=3))\n",
    "print(\"Normalized parsed formula rounded:\", formula.get_normalized_parsed_formula(decimals=3))"
   ]
  },
  {
   "cell_type": "markdown",
   "id": "08a129f3",
   "metadata": {},
   "source": [
    "Rebuild formula from parsed formula"
   ]
  },
  {
   "cell_type": "code",
   "execution_count": 376,
   "id": "b265a8bc",
   "metadata": {},
   "outputs": [
    {
     "name": "stdout",
     "output_type": "stream",
     "text": [
      "Rebuilt formula: NdSi2\n"
     ]
    }
   ],
   "source": [
    "# Rebuild a formula from a parsed data\n",
    "parsed = [('Nd', 1.0), ('Si', 2.0)]\n",
    "rebuilt_formula = Formula.build_formula_from_parsed(parsed)\n",
    "print(\"Rebuilt formula:\", rebuilt_formula)"
   ]
  },
  {
   "cell_type": "markdown",
   "id": "95e8ddfc",
   "metadata": {},
   "source": [
    "Sort formulas into composition type unary, binary, ternary, etc."
   ]
  },
  {
   "cell_type": "code",
   "execution_count": 377,
   "id": "ef663746",
   "metadata": {},
   "outputs": [
    {
     "name": "stdout",
     "output_type": "stream",
     "text": [
      "Sorted formulas by composition: {1: ['Cu'], 2: ['NdSi2', 'ThOs'], 3: ['NdSi2Th2'], 4: ['YNdThSi2']}\n"
     ]
    }
   ],
   "source": [
    "# Sorting a List of Formulas by Number of Elements\n",
    "formulas = [\"Cu\", \"NdSi2\", \"ThOs\", \"NdSi2Th2\", \"YNdThSi2\"]\n",
    "sorted_formulas = Formula.sort_by_composition(formulas)\n",
    "print(\"Sorted formulas by composition:\", sorted_formulas)\n"
   ]
  },
  {
   "cell_type": "markdown",
   "id": "f3a8c088",
   "metadata": {},
   "source": [
    "### Work with a list of formulas\n",
    "\n",
    "Filter, order, count, analyze a list of formulas."
   ]
  },
  {
   "cell_type": "markdown",
   "id": "02f799bf",
   "metadata": {},
   "source": [
    "### Count"
   ]
  },
  {
   "cell_type": "code",
   "execution_count": null,
   "id": "f07776bf",
   "metadata": {},
   "outputs": [],
   "source": [
    "# FIXME: Count the number of formulas\n",
    "# FIXME: Count the number of unique formulas\n",
    "# FIXME: COunt the whole count of formulas"
   ]
  },
  {
   "cell_type": "code",
   "execution_count": 378,
   "id": "fe0eaf6e",
   "metadata": {},
   "outputs": [
    {
     "data": {
      "text/plain": [
       "{'NdSi2': 2, 'NdSi2Th2': 2}"
      ]
     },
     "execution_count": 378,
     "metadata": {},
     "output_type": "execute_result"
    }
   ],
   "source": [
    "# Count and display duplicate formulas\n",
    "Formula.count_duplicates([\"NdSi2\", \"NdSi2\", \"NdSi2Th2\", \"NdSi2Th2\", \"ThOs\"])"
   ]
  },
  {
   "cell_type": "code",
   "execution_count": 379,
   "id": "a149be74",
   "metadata": {},
   "outputs": [
    {
     "name": "stdout",
     "output_type": "stream",
     "text": [
      "Count of NdSi2: 2\n"
     ]
    }
   ],
   "source": [
    "# Count by formula\n",
    "count = Formula.count_by_formula([\"NdSi2\", \"NdSi2\", \"NdSi2Th2\", \"NdSi2Th2\", \"ThOs\"], \"NdSi2\")\n",
    "print(\"Count of NdSi2:\", count)"
   ]
  },
  {
   "cell_type": "code",
   "execution_count": 380,
   "id": "104de8f3",
   "metadata": {},
   "outputs": [
    {
     "data": {
      "text/plain": [
       "{2: 3, 3: 2}"
      ]
     },
     "execution_count": 380,
     "metadata": {},
     "output_type": "execute_result"
    }
   ],
   "source": [
    "# Count by compposition\n",
    "Formula.count_by_composition([\"NdSi2\", \"NdSi2\", \"NdSi2Th2\", \"NdSi2Th2\", \"ThOs\"])"
   ]
  },
  {
   "cell_type": "code",
   "execution_count": 381,
   "id": "f3da89e6",
   "metadata": {},
   "outputs": [
    {
     "data": {
      "text/plain": [
       "{'Nd', 'Os', 'Si', 'Th'}"
      ]
     },
     "execution_count": 381,
     "metadata": {},
     "output_type": "execute_result"
    }
   ],
   "source": [
    "# Count elements\n",
    "Formula.get_unique_elements([\"NdSi2\", \"NdSi2\", \"NdSi2Th2\", \"NdSi2Th2\", \"ThOs\"])"
   ]
  },
  {
   "cell_type": "code",
   "execution_count": 383,
   "id": "b26d561d",
   "metadata": {},
   "outputs": [
    {
     "data": {
      "text/plain": [
       "{'NdSi2', 'NdSi2Th2', 'ThOs'}"
      ]
     },
     "execution_count": 383,
     "metadata": {},
     "output_type": "execute_result"
    }
   ],
   "source": [
    "# Get unqiue formulas from a list of formulas\n",
    "Formula.get_unique_formulas([\"NdSi2\", \"NdSi2\", \"NdSi2Th2\", \"NdSi2Th2\", \"ThOs\"])"
   ]
  },
  {
   "cell_type": "markdown",
   "id": "876f4679",
   "metadata": {},
   "source": [
    "### Order"
   ]
  },
  {
   "cell_type": "code",
   "execution_count": 384,
   "id": "5659467f",
   "metadata": {},
   "outputs": [
    {
     "data": {
      "text/plain": [
       "['AB', 'AB2', 'BBC2', 'BC2D2']"
      ]
     },
     "execution_count": 384,
     "metadata": {},
     "output_type": "execute_result"
    }
   ],
   "source": [
    "Formula.order_by_alphabetical([\"AB2\", \"AB\", \"BC2D2\", \"BBC2\"])\n"
   ]
  },
  {
   "cell_type": "markdown",
   "id": "ffcf5950",
   "metadata": {},
   "source": [
    "### Filter"
   ]
  },
  {
   "cell_type": "code",
   "execution_count": 385,
   "id": "1b95297f",
   "metadata": {},
   "outputs": [
    {
     "data": {
      "text/plain": [
       "['NdSi2', 'NdSi2', 'ThOs']"
      ]
     },
     "execution_count": 385,
     "metadata": {},
     "output_type": "execute_result"
    }
   ],
   "source": [
    "# Filter by composition\n",
    "Formula.filter_by_composition([\"NdSi2\", \"NdSi2\", \"NdSi2Th2\", \"NdSi2Th2\", \"ThOs\"], 2)"
   ]
  },
  {
   "cell_type": "code",
   "execution_count": 386,
   "id": "3ff42e12",
   "metadata": {},
   "outputs": [
    {
     "data": {
      "text/plain": [
       "['NdSi2', 'NdSi2', 'NdSi2Th2', 'NdSi2Th2']"
      ]
     },
     "execution_count": 386,
     "metadata": {},
     "output_type": "execute_result"
    }
   ],
   "source": [
    "# Filter by elements containing\n",
    "Formula.filter_by_elements_containing([\"NdSi2\", \"NdSi2\", \"NdSi2Th2\", \"NdSi2Th2\", \"ThOs\"], [\"Nd\", \"Si\"])\n"
   ]
  },
  {
   "cell_type": "code",
   "execution_count": 387,
   "id": "d2cbedd2",
   "metadata": {},
   "outputs": [
    {
     "data": {
      "text/plain": [
       "['NdSi2', 'NdSi']"
      ]
     },
     "execution_count": 387,
     "metadata": {},
     "output_type": "execute_result"
    }
   ],
   "source": [
    "# Filter by elements matching\n",
    "Formula.filter_by_elements_matching([\"NdSi2\", \"NdSi\", \"NdSi2Th2\", \"NdSi2Th2\", \"ThOs\"], [\"Nd\", \"Si\"])"
   ]
  }
 ],
 "metadata": {
  "kernelspec": {
   "display_name": "bob-env",
   "language": "python",
   "name": "python3"
  },
  "language_info": {
   "codemirror_mode": {
    "name": "ipython",
    "version": 3
   },
   "file_extension": ".py",
   "mimetype": "text/x-python",
   "name": "python",
   "nbconvert_exporter": "python",
   "pygments_lexer": "ipython3",
   "version": "3.13.3"
  }
 },
 "nbformat": 4,
 "nbformat_minor": 5
}
