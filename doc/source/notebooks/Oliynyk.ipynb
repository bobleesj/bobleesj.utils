{
 "cells": [
  {
   "cell_type": "markdown",
   "id": "3041f95a",
   "metadata": {},
   "source": [
    "# Oliynyk\n",
    "\n",
    "This code is an interface for working with the Oliynyk property dataset."
   ]
  },
  {
   "cell_type": "markdown",
   "id": "2307b17a",
   "metadata": {},
   "source": [
    "## Available elemental properties"
   ]
  },
  {
   "cell_type": "code",
   "execution_count": 276,
   "id": "333c6a73",
   "metadata": {},
   "outputs": [
    {
     "data": {
      "text/plain": [
       "'atomic_number'"
      ]
     },
     "execution_count": 276,
     "metadata": {},
     "output_type": "execute_result"
    }
   ],
   "source": [
    "from bobleesj.utils.sources.oliynyk import Property as P\n",
    "\n",
    "# Get the string value of the propert\n",
    "P.ATOMIC_NUMBER.value"
   ]
  },
  {
   "cell_type": "markdown",
   "id": "61107c3b",
   "metadata": {},
   "source": [
    "### Print all supported properties"
   ]
  },
  {
   "cell_type": "code",
   "execution_count": 277,
   "id": "1751ee6f",
   "metadata": {},
   "outputs": [
    {
     "name": "stdout",
     "output_type": "stream",
     "text": [
      "\n",
      "Available elemental properties:\n",
      "  1. AW - atomic_weight\n",
      "  2. ATOMIC_NUMBER - atomic_number\n",
      "  3. PERIOD - period\n",
      "  4. GROUP - group\n",
      "  5. MEND_NUM - Mendeleev_number\n",
      "  6. VAL_TOTAL - valencee_total\n",
      "  7. UNPARIED_E - unpaired_electrons\n",
      "  8. GILMAN - Gilman\n",
      "  9. Z_EFF - Z_eff\n",
      "  10. ION_ENERGY - ionization_energy\n",
      "  11. COORD_NUM - coordination_number\n",
      "  12. RATIO_CLOSEST - ratio_closest\n",
      "  13. POLYHEDRON_DISTORT - polyhedron_distortion\n",
      "  14. CIF_RADIUS - CIF_radius\n",
      "  15. PAULING_RADIUS_CN12 - Pauling_radius_CN12\n",
      "  16. PAULING_EN - Pauling_EN\n",
      "  17. MARTYNOV_BATSANOV_EN - Martynov_Batsanov_EN\n",
      "  18. MELTING_POINT_K - melting_point_K\n",
      "  19. DENSITY - density\n",
      "  20. SPECIFIC_HEAT - specific_heat\n",
      "  21. COHESIVE_ENERGY - cohesive_energy\n",
      "  22. BULK_MODULUS - bulk_modulus\n"
     ]
    }
   ],
   "source": [
    "# Print all the string values of the properties\n",
    "P.display()"
   ]
  },
  {
   "cell_type": "markdown",
   "id": "3dadc0f8",
   "metadata": {},
   "source": [
    "## Oliynyk"
   ]
  },
  {
   "cell_type": "markdown",
   "id": "8492bc1c",
   "metadata": {},
   "source": [
    "### Import the class and intialize it"
   ]
  },
  {
   "cell_type": "code",
   "execution_count": 278,
   "id": "6f32ebe1",
   "metadata": {},
   "outputs": [],
   "source": [
    "from bobleesj.utils.sources.oliynyk import Oliynyk"
   ]
  },
  {
   "cell_type": "code",
   "execution_count": 279,
   "id": "cbf6cb5e",
   "metadata": {},
   "outputs": [],
   "source": [
    "# Instantiate the Oliynyk class\n",
    "oliynyk = Oliynyk()"
   ]
  },
  {
   "cell_type": "markdown",
   "id": "49b0629e",
   "metadata": {},
   "source": [
    "### Get the property value given the element and the property"
   ]
  },
  {
   "cell_type": "code",
   "execution_count": 280,
   "id": "9621d4b4",
   "metadata": {},
   "outputs": [
    {
     "data": {
      "text/plain": [
       "29"
      ]
     },
     "execution_count": 280,
     "metadata": {},
     "output_type": "execute_result"
    }
   ],
   "source": [
    "oliynyk.db[\"Cu\"][P.ATOMIC_NUMBER]"
   ]
  },
  {
   "cell_type": "markdown",
   "id": "4935e8c3",
   "metadata": {},
   "source": [
    "### Get the property values given the formula and the property"
   ]
  },
  {
   "cell_type": "code",
   "execution_count": 281,
   "id": "3c4f3987",
   "metadata": {},
   "outputs": [
    {
     "data": {
      "text/plain": [
       "{'Nd': 19, 'Si': 78}"
      ]
     },
     "execution_count": 281,
     "metadata": {},
     "output_type": "execute_result"
    }
   ],
   "source": [
    "oliynyk.get_property_data_for_formula(\"NdSi2\", P.MEND_NUM)"
   ]
  },
  {
   "cell_type": "markdown",
   "id": "7e0613c7",
   "metadata": {},
   "source": [
    "### Get all elemental values for the given property"
   ]
  },
  {
   "cell_type": "code",
   "execution_count": 282,
   "id": "13256858",
   "metadata": {},
   "outputs": [
    {
     "data": {
      "text/plain": [
       "{'Li': 6.941,\n",
       " 'Be': 9.01218,\n",
       " 'B': 10.811,\n",
       " 'C': 12.011,\n",
       " 'Na': 22.989768,\n",
       " 'Mg': 24.305,\n",
       " 'Al': 26.981539,\n",
       " 'Si': 28.0855,\n",
       " 'P': 30.973762,\n",
       " 'S': 32.066,\n",
       " 'K': 39.0983,\n",
       " 'Ca': 40.078,\n",
       " 'Sc': 44.95591,\n",
       " 'Ti': 47.867,\n",
       " 'V': 50.9415,\n",
       " 'Cr': 51.9961,\n",
       " 'Mn': 54.93805,\n",
       " 'Fe': 55.847,\n",
       " 'Co': 58.9332,\n",
       " 'Ni': 58.6934,\n",
       " 'Cu': 63.546,\n",
       " 'Zn': 65.38,\n",
       " 'Ga': 69.723,\n",
       " 'Ge': 72.63,\n",
       " 'As': 74.92159,\n",
       " 'Se': 78.971,\n",
       " 'Rb': 85.4678,\n",
       " 'Sr': 87.62,\n",
       " 'Y': 88.90584,\n",
       " 'Zr': 91.224,\n",
       " 'Nb': 92.90638,\n",
       " 'Mo': 95.95,\n",
       " 'Ru': 101.07,\n",
       " 'Rh': 102.9055,\n",
       " 'Pd': 106.42,\n",
       " 'Ag': 107.8682,\n",
       " 'Cd': 112.411,\n",
       " 'In': 114.818,\n",
       " 'Sn': 118.71,\n",
       " 'Sb': 121.76,\n",
       " 'Te': 127.6,\n",
       " 'Cs': 132.90543,\n",
       " 'Ba': 137.327,\n",
       " 'La': 138.9055,\n",
       " 'Ce': 140.115,\n",
       " 'Pr': 140.90765,\n",
       " 'Nd': 144.242,\n",
       " 'Sm': 150.36,\n",
       " 'Eu': 151.965,\n",
       " 'Gd': 157.25,\n",
       " 'Tb': 158.92534,\n",
       " 'Dy': 162.5,\n",
       " 'Ho': 164.93032,\n",
       " 'Er': 167.259,\n",
       " 'Tm': 168.93421,\n",
       " 'Yb': 173.045,\n",
       " 'Lu': 174.967,\n",
       " 'Hf': 178.49,\n",
       " 'Ta': 180.9479,\n",
       " 'W': 183.84,\n",
       " 'Re': 186.207,\n",
       " 'Os': 190.23,\n",
       " 'Ir': 192.217,\n",
       " 'Pt': 195.084,\n",
       " 'Au': 196.96654,\n",
       " 'Tl': 204.3833,\n",
       " 'Pb': 207.2,\n",
       " 'Bi': 208.98037,\n",
       " 'Th': 232.0381,\n",
       " 'U': 238.0289}"
      ]
     },
     "execution_count": 282,
     "metadata": {},
     "output_type": "execute_result"
    }
   ],
   "source": [
    "oliynyk.get_property_data(P.AW)"
   ]
  },
  {
   "cell_type": "markdown",
   "id": "1787d01c",
   "metadata": {},
   "source": [
    "## Validate"
   ]
  },
  {
   "cell_type": "markdown",
   "id": "afb808ee",
   "metadata": {},
   "source": [
    "### Check whether the formula is supported"
   ]
  },
  {
   "cell_type": "code",
   "execution_count": 283,
   "id": "8bd4df46",
   "metadata": {},
   "outputs": [
    {
     "data": {
      "text/plain": [
       "True"
      ]
     },
     "execution_count": 283,
     "metadata": {},
     "output_type": "execute_result"
    }
   ],
   "source": [
    "oliynyk.is_formula_supported(\"NdSi2\")"
   ]
  },
  {
   "cell_type": "markdown",
   "id": "0c81b38f",
   "metadata": {},
   "source": [
    "### Filter formulas into supported and unsupported"
   ]
  },
  {
   "cell_type": "code",
   "execution_count": 284,
   "id": "33ac98dd",
   "metadata": {},
   "outputs": [
    {
     "name": "stdout",
     "output_type": "stream",
     "text": [
      "Supported: ['NdSi2']\n",
      "Unsupported: ['FeH']\n"
     ]
    }
   ],
   "source": [
    "supported, unsupported = oliynyk.get_supported_formulas([\"FeH\", \"NdSi2\"])\n",
    "print(\"Supported:\", supported)\n",
    "print(\"Unsupported:\", unsupported)"
   ]
  },
  {
   "cell_type": "markdown",
   "id": "15b8395a",
   "metadata": {},
   "source": [
    "### List elements supported"
   ]
  },
  {
   "cell_type": "code",
   "execution_count": 285,
   "id": "b98ee2ce",
   "metadata": {},
   "outputs": [
    {
     "data": {
      "text/plain": [
       "['Li',\n",
       " 'Be',\n",
       " 'B',\n",
       " 'C',\n",
       " 'Na',\n",
       " 'Mg',\n",
       " 'Al',\n",
       " 'Si',\n",
       " 'P',\n",
       " 'S',\n",
       " 'K',\n",
       " 'Ca',\n",
       " 'Sc',\n",
       " 'Ti',\n",
       " 'V',\n",
       " 'Cr',\n",
       " 'Mn',\n",
       " 'Fe',\n",
       " 'Co',\n",
       " 'Ni',\n",
       " 'Cu',\n",
       " 'Zn',\n",
       " 'Ga',\n",
       " 'Ge',\n",
       " 'As',\n",
       " 'Se',\n",
       " 'Rb',\n",
       " 'Sr',\n",
       " 'Y',\n",
       " 'Zr',\n",
       " 'Nb',\n",
       " 'Mo',\n",
       " 'Ru',\n",
       " 'Rh',\n",
       " 'Pd',\n",
       " 'Ag',\n",
       " 'Cd',\n",
       " 'In',\n",
       " 'Sn',\n",
       " 'Sb',\n",
       " 'Te',\n",
       " 'Cs',\n",
       " 'Ba',\n",
       " 'La',\n",
       " 'Ce',\n",
       " 'Pr',\n",
       " 'Nd',\n",
       " 'Sm',\n",
       " 'Eu',\n",
       " 'Gd',\n",
       " 'Tb',\n",
       " 'Dy',\n",
       " 'Ho',\n",
       " 'Er',\n",
       " 'Tm',\n",
       " 'Yb',\n",
       " 'Lu',\n",
       " 'Hf',\n",
       " 'Ta',\n",
       " 'W',\n",
       " 'Re',\n",
       " 'Os',\n",
       " 'Ir',\n",
       " 'Pt',\n",
       " 'Au',\n",
       " 'Tl',\n",
       " 'Pb',\n",
       " 'Bi',\n",
       " 'Th',\n",
       " 'U']"
      ]
     },
     "execution_count": 285,
     "metadata": {},
     "output_type": "execute_result"
    }
   ],
   "source": [
    "# List supported elements in the Oliynyk database\n",
    "oliynyk.list_supported_elements()"
   ]
  }
 ],
 "metadata": {
  "kernelspec": {
   "display_name": "bob-env",
   "language": "python",
   "name": "python3"
  },
  "language_info": {
   "codemirror_mode": {
    "name": "ipython",
    "version": 3
   },
   "file_extension": ".py",
   "mimetype": "text/x-python",
   "name": "python",
   "nbconvert_exporter": "python",
   "pygments_lexer": "ipython3",
   "version": "3.13.3"
  }
 },
 "nbformat": 4,
 "nbformat_minor": 5
}
