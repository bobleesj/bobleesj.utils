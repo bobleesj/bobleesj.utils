{
 "cells": [
  {
   "cell_type": "markdown",
   "id": "0",
   "metadata": {},
   "source": [
    "# Formula\n",
    "\n",
    "There are two primary goals for this `Formula` class.\n",
    "\n",
    "1. Parse and normalize a single formula\n",
    "2. Count, order, filter a list of formulas"
   ]
  },
  {
   "cell_type": "markdown",
   "id": "1",
   "metadata": {},
   "source": [
    "## Import"
   ]
  },
  {
   "cell_type": "code",
   "execution_count": null,
   "id": "2",
   "metadata": {},
   "outputs": [],
   "source": [
    "from bobleesj.utils.parsers.formula import Formula"
   ]
  },
  {
   "cell_type": "markdown",
   "id": "3",
   "metadata": {},
   "source": [
    "## Formula"
   ]
  },
  {
   "cell_type": "markdown",
   "id": "4",
   "metadata": {},
   "source": [
    "### Parse"
   ]
  },
  {
   "cell_type": "code",
   "execution_count": null,
   "id": "5",
   "metadata": {},
   "outputs": [],
   "source": [
    "formula = Formula(\"NdSi2\")\n",
    "print(\"Parsed formula:\", formula.parsed_formula)\n",
    "print(\"Elements:\", formula.elements)\n",
    "print(\"Indices:\", formula.indices)\n",
    "print(\"Element count:\", formula.element_count)\n",
    "print(\"Max, Min, Avg of indices:\", formula.max_min_avg_index)"
   ]
  },
  {
   "cell_type": "markdown",
   "id": "6",
   "metadata": {},
   "source": [
    "### Normalize formula"
   ]
  },
  {
   "cell_type": "code",
   "execution_count": null,
   "id": "7",
   "metadata": {},
   "outputs": [],
   "source": [
    "# Normalized index values, default is 6 decimal places\n",
    "print(\"Indices:\", formula.get_normalized_indices())\n",
    "print(\"Formula:\", formula.get_normalized_formula())\n",
    "print(\"Parsed formula:\", formula.get_normalized_parsed_formula())"
   ]
  },
  {
   "cell_type": "code",
   "execution_count": null,
   "id": "8",
   "metadata": {},
   "outputs": [],
   "source": [
    "# Round to 3 decimal places\n",
    "print(\"Indices:\", formula.get_normalized_indices(decimals=3))\n",
    "print(\"Formula:\", formula.get_normalized_formula(decimals=3))\n",
    "print(\"Parsed formula:\", formula.get_normalized_parsed_formula(decimals=3))"
   ]
  },
  {
   "cell_type": "markdown",
   "id": "9",
   "metadata": {},
   "source": [
    "Sort formulas into composition type unary, binary, ternary, etc."
   ]
  },
  {
   "cell_type": "markdown",
   "id": "10",
   "metadata": {},
   "source": [
    "## Count, order, filter a list of formulas\n",
    "\n"
   ]
  },
  {
   "cell_type": "markdown",
   "id": "11",
   "metadata": {},
   "source": [
    "### Count"
   ]
  },
  {
   "cell_type": "code",
   "execution_count": null,
   "id": "12",
   "metadata": {},
   "outputs": [],
   "source": [
    "# Count all formulas in a list\n",
    "Formula.count([\"Cu\", \"NdSi2\", \"ThOs\", \"NdSi2Th2\", \"YNdThSi2\"])"
   ]
  },
  {
   "cell_type": "code",
   "execution_count": null,
   "id": "13",
   "metadata": {},
   "outputs": [],
   "source": [
    "# Count the number of unique formulas\n",
    "Formula.count_unique([\"CuNdSi2\", \"CuNdSi2\", \"YNdThSi2\"])"
   ]
  },
  {
   "cell_type": "code",
   "execution_count": null,
   "id": "14",
   "metadata": {},
   "outputs": [],
   "source": [
    "# Count the number of occurrences of each unique formula\n",
    "Formula.count_individual([\"NdSi2\", \"NdSi2\", \"YNdThSi2\"])"
   ]
  },
  {
   "cell_type": "code",
   "execution_count": null,
   "id": "15",
   "metadata": {},
   "outputs": [],
   "source": [
    "# Count and display duplicate formulas only\n",
    "Formula.count_duplicates([\"NdSi2\", \"NdSi2\", \"NdSi2Th2\", \"NdSi2Th2\", \"ThOs\"])"
   ]
  },
  {
   "cell_type": "code",
   "execution_count": null,
   "id": "16",
   "metadata": {},
   "outputs": [],
   "source": [
    "# Count the number of formula provided\n",
    "Formula.count_by_formula([\"NdSi2\", \"NdSi2\", \"NdSi2Th2\", \"NdSi2Th2\", \"ThOs\"], \"NdSi2\")"
   ]
  },
  {
   "cell_type": "code",
   "execution_count": null,
   "id": "17",
   "metadata": {},
   "outputs": [],
   "source": [
    "# Count by formula\n",
    "Formula.count_by_formula([\"NdSi2\", \"NdSi2\", \"NdSi2Th2\", \"NdSi2Th2\", \"ThOs\"], \"NdSi2\")"
   ]
  },
  {
   "cell_type": "code",
   "execution_count": null,
   "id": "18",
   "metadata": {},
   "outputs": [],
   "source": [
    "# Count by compposition\n",
    "Formula.count_by_composition([\"NdSi2\", \"NdSi2\", \"NdSi2Th2\", \"NdSi2Th2\", \"ThOs\"])"
   ]
  },
  {
   "cell_type": "code",
   "execution_count": null,
   "id": "19",
   "metadata": {},
   "outputs": [],
   "source": [
    "# Get unique elements only\n",
    "Formula.get_unique_elements([\"NdSi2\", \"NdSi2\", \"NdSi2Th2\", \"NdSi2Th2\", \"ThOs\"])"
   ]
  },
  {
   "cell_type": "code",
   "execution_count": null,
   "id": "20",
   "metadata": {},
   "outputs": [],
   "source": [
    "# Get unique formulas only\n",
    "Formula.get_unique_formulas([\"NdSi2\", \"NdSi2\", \"NdSi2Th2\", \"NdSi2Th2\", \"ThOs\"])"
   ]
  },
  {
   "cell_type": "code",
   "execution_count": null,
   "id": "21",
   "metadata": {},
   "outputs": [],
   "source": [
    "# Get element counts (ignore Stoichiometry)\n",
    "Formula.get_element_count([\"NdSi2\", \"NdSi2\", \"NdSi2Th2\", \"NdSi2Th2\", \"ThOs\"])"
   ]
  },
  {
   "cell_type": "markdown",
   "id": "22",
   "metadata": {},
   "source": [
    "### Order"
   ]
  },
  {
   "cell_type": "code",
   "execution_count": null,
   "id": "23",
   "metadata": {},
   "outputs": [],
   "source": [
    "# Order formulas A->Z\n",
    "Formula.order_by_alphabetical([\"AB2\", \"AB\", \"BC2D2\", \"BBC2\"])"
   ]
  },
  {
   "cell_type": "code",
   "execution_count": null,
   "id": "24",
   "metadata": {},
   "outputs": [],
   "source": [
    "# Order formulas Z->A\n",
    "Formula.order_by_alphabetical([\"AB2\", \"AB\", \"BC2D2\", \"BBC2\"], reverse=True)"
   ]
  },
  {
   "cell_type": "markdown",
   "id": "25",
   "metadata": {},
   "source": [
    "### Filter"
   ]
  },
  {
   "cell_type": "code",
   "execution_count": null,
   "id": "26",
   "metadata": {},
   "outputs": [],
   "source": [
    "# Filter a list of formula by composition \n",
    "sorted_formulas = Formula.filter_by_composition([\"Cu\", \"NdSi2\", \"ThOs\", \"NdSi2Th2\", \"YNdThSi2\"])"
   ]
  },
  {
   "cell_type": "code",
   "execution_count": null,
   "id": "27",
   "metadata": {},
   "outputs": [],
   "source": [
    "# Filter by composition (e.g., binary)\n",
    "Formula.filter_by_single_composition([\"NdSi2\", \"NdSi2\", \"NdSi2Th2\", \"NdSi2Th2\", \"ThOs\"], 2)"
   ]
  },
  {
   "cell_type": "code",
   "execution_count": null,
   "id": "28",
   "metadata": {},
   "outputs": [],
   "source": [
    "# Filter by elements containing\n",
    "Formula.filter_by_elements_containing([\"NdSi2\", \"NdSi2\", \"NdSi2Th2\", \"NdSi2Th2\", \"ThOs\"], [\"Nd\", \"Si\"])"
   ]
  },
  {
   "cell_type": "code",
   "execution_count": null,
   "id": "29",
   "metadata": {},
   "outputs": [],
   "source": [
    "# Filter by elements matching\n",
    "Formula.filter_by_elements_matching([\"NdSi2\", \"NdSi\", \"NdSi2Th2\", \"NdSi2Th2\", \"ThOs\"], [\"Nd\", \"Si\"])"
   ]
  }
 ],
 "metadata": {
  "kernelspec": {
   "display_name": "bob-env",
   "language": "python",
   "name": "python3"
  },
  "language_info": {
   "codemirror_mode": {
    "name": "ipython",
    "version": 3
   },
   "file_extension": ".py",
   "mimetype": "text/x-python",
   "name": "python",
   "nbconvert_exporter": "python",
   "pygments_lexer": "ipython3",
   "version": "3.13.3"
  }
 },
 "nbformat": 4,
 "nbformat_minor": 5
}
