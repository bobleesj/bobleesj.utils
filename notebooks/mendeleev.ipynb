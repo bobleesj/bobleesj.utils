{
 "cells": [
  {
   "cell_type": "markdown",
   "id": "0",
   "metadata": {},
   "source": [
    "# Mendeleev"
   ]
  },
  {
   "cell_type": "code",
   "execution_count": 1,
   "id": "1",
   "metadata": {
    "execution": {
     "iopub.execute_input": "2025-06-23T12:37:44.356872Z",
     "iopub.status.busy": "2025-06-23T12:37:44.356705Z",
     "iopub.status.idle": "2025-06-23T12:37:44.364436Z",
     "shell.execute_reply": "2025-06-23T12:37:44.364003Z"
    }
   },
   "outputs": [
    {
     "data": {
      "text/plain": [
       "{'H': 92,\n",
       " 'He': 98,\n",
       " 'Li': 1,\n",
       " 'Be': 67,\n",
       " 'B': 72,\n",
       " 'C': 77,\n",
       " 'N': 82,\n",
       " 'O': 87,\n",
       " 'F': 93,\n",
       " 'Ne': 99,\n",
       " 'Na': 2,\n",
       " 'Mg': 68,\n",
       " 'Al': 73,\n",
       " 'Si': 78,\n",
       " 'P': 83,\n",
       " 'S': 88,\n",
       " 'Cl': 94,\n",
       " 'Ar': 100,\n",
       " 'K': 3,\n",
       " 'Ca': 7,\n",
       " 'Sc': 11,\n",
       " 'Ti': 43,\n",
       " 'V': 46,\n",
       " 'Cr': 49,\n",
       " 'Mn': 52,\n",
       " 'Fe': 55,\n",
       " 'Co': 58,\n",
       " 'Ni': 61,\n",
       " 'Cu': 64,\n",
       " 'Zn': 69,\n",
       " 'Ga': 74,\n",
       " 'Ge': 79,\n",
       " 'As': 84,\n",
       " 'Se': 89,\n",
       " 'Br': 95,\n",
       " 'Kr': 101,\n",
       " 'Rb': 4,\n",
       " 'Sr': 8,\n",
       " 'Y': 12,\n",
       " 'Zr': 44,\n",
       " 'Nb': 47,\n",
       " 'Mo': 50,\n",
       " 'Tc': 53,\n",
       " 'Ru': 56,\n",
       " 'Rh': 59,\n",
       " 'Pd': 62,\n",
       " 'Ag': 65,\n",
       " 'Cd': 70,\n",
       " 'In': 75,\n",
       " 'Sn': 80,\n",
       " 'Sb': 85,\n",
       " 'Te': 90,\n",
       " 'I': 96,\n",
       " 'Xe': 102,\n",
       " 'Cs': 5,\n",
       " 'Ba': 9,\n",
       " 'La': 13,\n",
       " 'Ce': 15,\n",
       " 'Pr': 17,\n",
       " 'Nd': 19,\n",
       " 'Pm': 21,\n",
       " 'Sm': 23,\n",
       " 'Eu': 25,\n",
       " 'Gd': 27,\n",
       " 'Tb': 29,\n",
       " 'Dy': 31,\n",
       " 'Ho': 33,\n",
       " 'Er': 35,\n",
       " 'Tm': 37,\n",
       " 'Yb': 39,\n",
       " 'Lu': 41,\n",
       " 'Hf': 45,\n",
       " 'Ta': 48,\n",
       " 'W': 51,\n",
       " 'Re': 54,\n",
       " 'Os': 57,\n",
       " 'Ir': 60,\n",
       " 'Pt': 63,\n",
       " 'Au': 66,\n",
       " 'Hg': 71,\n",
       " 'Tl': 76,\n",
       " 'Pb': 81,\n",
       " 'Bi': 86,\n",
       " 'Th': 16,\n",
       " 'U': 20}"
      ]
     },
     "execution_count": 1,
     "metadata": {},
     "output_type": "execute_result"
    }
   ],
   "source": [
    "from bobleesj.utils.sources import mendeleev\n",
    "\n",
    "mendeleev.numbers"
   ]
  }
 ],
 "metadata": {
  "kernelspec": {
   "display_name": "test-env",
   "language": "python",
   "name": "python3"
  },
  "language_info": {
   "codemirror_mode": {
    "name": "ipython",
    "version": 3
   },
   "file_extension": ".py",
   "mimetype": "text/x-python",
   "name": "python",
   "nbconvert_exporter": "python",
   "pygments_lexer": "ipython3",
   "version": "3.13.5"
  }
 },
 "nbformat": 4,
 "nbformat_minor": 5
}
