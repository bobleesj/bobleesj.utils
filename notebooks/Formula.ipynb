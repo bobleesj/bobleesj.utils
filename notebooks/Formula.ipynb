{
 "cells": [
  {
   "cell_type": "markdown",
   "id": "0",
   "metadata": {},
   "source": [
    "# Formula\n",
    "\n",
    "There are two primary goals for this `Formula` class.\n",
    "\n",
    "1. Parse and normalize a single formula\n",
    "2. Count, order, filter a list of formulas"
   ]
  },
  {
   "cell_type": "markdown",
   "id": "1",
   "metadata": {},
   "source": [
    "## Import"
   ]
  },
  {
   "cell_type": "code",
   "execution_count": 1,
   "id": "2",
   "metadata": {
    "execution": {
     "iopub.execute_input": "2025-05-20T00:54:06.628696Z",
     "iopub.status.busy": "2025-05-20T00:54:06.628540Z",
     "iopub.status.idle": "2025-05-20T00:54:06.632566Z",
     "shell.execute_reply": "2025-05-20T00:54:06.632231Z"
    }
   },
   "outputs": [],
   "source": [
    "from bobleesj.utils.parsers.formula import Formula"
   ]
  },
  {
   "cell_type": "markdown",
   "id": "3",
   "metadata": {},
   "source": [
    "## Formula"
   ]
  },
  {
   "cell_type": "markdown",
   "id": "4",
   "metadata": {},
   "source": [
    "### Parse"
   ]
  },
  {
   "cell_type": "code",
   "execution_count": 2,
   "id": "5",
   "metadata": {
    "execution": {
     "iopub.execute_input": "2025-05-20T00:54:06.633960Z",
     "iopub.status.busy": "2025-05-20T00:54:06.633794Z",
     "iopub.status.idle": "2025-05-20T00:54:06.636804Z",
     "shell.execute_reply": "2025-05-20T00:54:06.636411Z"
    }
   },
   "outputs": [
    {
     "name": "stdout",
     "output_type": "stream",
     "text": [
      "Parsed formula: [('Nd', 1.0), ('Si', 2.0)]\n",
      "Elements: ['Nd', 'Si']\n",
      "Indices: [1.0, 2.0]\n",
      "Element count: 2\n",
      "Max, Min, Avg of indices: (2.0, 1.0, 1.5)\n"
     ]
    }
   ],
   "source": [
    "formula = Formula(\"NdSi2\")\n",
    "print(\"Parsed formula:\", formula.parsed_formula)\n",
    "print(\"Elements:\", formula.elements)\n",
    "print(\"Indices:\", formula.indices)\n",
    "print(\"Element count:\", formula.element_count)\n",
    "print(\"Max, Min, Avg of indices:\", formula.max_min_avg_index)"
   ]
  },
  {
   "cell_type": "markdown",
   "id": "6",
   "metadata": {},
   "source": [
    "### Normalize formula"
   ]
  },
  {
   "cell_type": "code",
   "execution_count": 3,
   "id": "7",
   "metadata": {
    "execution": {
     "iopub.execute_input": "2025-05-20T00:54:06.638162Z",
     "iopub.status.busy": "2025-05-20T00:54:06.638001Z",
     "iopub.status.idle": "2025-05-20T00:54:06.640898Z",
     "shell.execute_reply": "2025-05-20T00:54:06.640517Z"
    }
   },
   "outputs": [
    {
     "name": "stdout",
     "output_type": "stream",
     "text": [
      "Indices: [0.333333, 0.666667]\n",
      "Formula: Nd0.333333Si0.666667\n",
      "Parsed formula: [('Nd', 0.333333), ('Si', 0.666667)]\n"
     ]
    }
   ],
   "source": [
    "# Normalized index values, default is 6 decimal places\n",
    "print(\"Indices:\", formula.get_normalized_indices())\n",
    "print(\"Formula:\", formula.get_normalized_formula())\n",
    "print(\"Parsed formula:\", formula.get_normalized_parsed_formula())"
   ]
  },
  {
   "cell_type": "code",
   "execution_count": 4,
   "id": "8",
   "metadata": {
    "execution": {
     "iopub.execute_input": "2025-05-20T00:54:06.642540Z",
     "iopub.status.busy": "2025-05-20T00:54:06.642087Z",
     "iopub.status.idle": "2025-05-20T00:54:06.645015Z",
     "shell.execute_reply": "2025-05-20T00:54:06.644555Z"
    }
   },
   "outputs": [
    {
     "name": "stdout",
     "output_type": "stream",
     "text": [
      "Indices: [0.333, 0.667]\n",
      "Formula: Nd0.333Si0.667\n",
      "Parsed formula: [('Nd', 0.333), ('Si', 0.667)]\n"
     ]
    }
   ],
   "source": [
    "# Round to 3 decimal places\n",
    "print(\"Indices:\", formula.get_normalized_indices(decimals=3))\n",
    "print(\"Formula:\", formula.get_normalized_formula(decimals=3))\n",
    "print(\"Parsed formula:\", formula.get_normalized_parsed_formula(decimals=3))"
   ]
  },
  {
   "cell_type": "markdown",
   "id": "9",
   "metadata": {},
   "source": [
    "Sort formulas into composition type unary, binary, ternary, etc."
   ]
  },
  {
   "cell_type": "markdown",
   "id": "10",
   "metadata": {},
   "source": [
    "## Count, order, filter a list of formulas\n",
    "\n"
   ]
  },
  {
   "cell_type": "markdown",
   "id": "11",
   "metadata": {},
   "source": [
    "### Count"
   ]
  },
  {
   "cell_type": "code",
   "execution_count": 5,
   "id": "12",
   "metadata": {
    "execution": {
     "iopub.execute_input": "2025-05-20T00:54:06.646328Z",
     "iopub.status.busy": "2025-05-20T00:54:06.646188Z",
     "iopub.status.idle": "2025-05-20T00:54:06.650753Z",
     "shell.execute_reply": "2025-05-20T00:54:06.650312Z"
    }
   },
   "outputs": [
    {
     "data": {
      "text/plain": [
       "5"
      ]
     },
     "execution_count": 5,
     "metadata": {},
     "output_type": "execute_result"
    }
   ],
   "source": [
    "# Count all formulas in a list\n",
    "Formula.count([\"Cu\", \"NdSi2\", \"ThOs\", \"NdSi2Th2\", \"YNdThSi2\"])"
   ]
  },
  {
   "cell_type": "code",
   "execution_count": 6,
   "id": "13",
   "metadata": {
    "execution": {
     "iopub.execute_input": "2025-05-20T00:54:06.652084Z",
     "iopub.status.busy": "2025-05-20T00:54:06.651937Z",
     "iopub.status.idle": "2025-05-20T00:54:06.655025Z",
     "shell.execute_reply": "2025-05-20T00:54:06.654682Z"
    }
   },
   "outputs": [
    {
     "data": {
      "text/plain": [
       "2"
      ]
     },
     "execution_count": 6,
     "metadata": {},
     "output_type": "execute_result"
    }
   ],
   "source": [
    "# Count the number of unique formulas\n",
    "Formula.count_unique([\"CuNdSi2\", \"CuNdSi2\", \"YNdThSi2\"])"
   ]
  },
  {
   "cell_type": "code",
   "execution_count": 7,
   "id": "14",
   "metadata": {
    "execution": {
     "iopub.execute_input": "2025-05-20T00:54:06.656345Z",
     "iopub.status.busy": "2025-05-20T00:54:06.656201Z",
     "iopub.status.idle": "2025-05-20T00:54:06.659293Z",
     "shell.execute_reply": "2025-05-20T00:54:06.658837Z"
    }
   },
   "outputs": [
    {
     "data": {
      "text/plain": [
       "{'NdSi2': 2, 'YNdThSi2': 1}"
      ]
     },
     "execution_count": 7,
     "metadata": {},
     "output_type": "execute_result"
    }
   ],
   "source": [
    "# Count the number of occurrences of each unique formula\n",
    "Formula.count_individual([\"NdSi2\", \"NdSi2\", \"YNdThSi2\"])"
   ]
  },
  {
   "cell_type": "code",
   "execution_count": 8,
   "id": "15",
   "metadata": {
    "execution": {
     "iopub.execute_input": "2025-05-20T00:54:06.660654Z",
     "iopub.status.busy": "2025-05-20T00:54:06.660512Z",
     "iopub.status.idle": "2025-05-20T00:54:06.663663Z",
     "shell.execute_reply": "2025-05-20T00:54:06.663221Z"
    }
   },
   "outputs": [
    {
     "data": {
      "text/plain": [
       "{'NdSi2': 2, 'NdSi2Th2': 2}"
      ]
     },
     "execution_count": 8,
     "metadata": {},
     "output_type": "execute_result"
    }
   ],
   "source": [
    "# Count and display duplicate formulas only\n",
    "Formula.count_duplicates([\"NdSi2\", \"NdSi2\", \"NdSi2Th2\", \"NdSi2Th2\", \"ThOs\"])"
   ]
  },
  {
   "cell_type": "code",
   "execution_count": 9,
   "id": "16",
   "metadata": {
    "execution": {
     "iopub.execute_input": "2025-05-20T00:54:06.665079Z",
     "iopub.status.busy": "2025-05-20T00:54:06.664930Z",
     "iopub.status.idle": "2025-05-20T00:54:06.668107Z",
     "shell.execute_reply": "2025-05-20T00:54:06.667659Z"
    }
   },
   "outputs": [
    {
     "data": {
      "text/plain": [
       "2"
      ]
     },
     "execution_count": 9,
     "metadata": {},
     "output_type": "execute_result"
    }
   ],
   "source": [
    "# Count the number of formula provided\n",
    "Formula.count_by_formula([\"NdSi2\", \"NdSi2\", \"NdSi2Th2\", \"NdSi2Th2\", \"ThOs\"], \"NdSi2\")"
   ]
  },
  {
   "cell_type": "code",
   "execution_count": 10,
   "id": "17",
   "metadata": {
    "execution": {
     "iopub.execute_input": "2025-05-20T00:54:06.669657Z",
     "iopub.status.busy": "2025-05-20T00:54:06.669370Z",
     "iopub.status.idle": "2025-05-20T00:54:06.672483Z",
     "shell.execute_reply": "2025-05-20T00:54:06.672052Z"
    }
   },
   "outputs": [
    {
     "data": {
      "text/plain": [
       "2"
      ]
     },
     "execution_count": 10,
     "metadata": {},
     "output_type": "execute_result"
    }
   ],
   "source": [
    "# Count by formula\n",
    "Formula.count_by_formula([\"NdSi2\", \"NdSi2\", \"NdSi2Th2\", \"NdSi2Th2\", \"ThOs\"], \"NdSi2\")"
   ]
  },
  {
   "cell_type": "code",
   "execution_count": 11,
   "id": "18",
   "metadata": {
    "execution": {
     "iopub.execute_input": "2025-05-20T00:54:06.674066Z",
     "iopub.status.busy": "2025-05-20T00:54:06.673719Z",
     "iopub.status.idle": "2025-05-20T00:54:06.676887Z",
     "shell.execute_reply": "2025-05-20T00:54:06.676469Z"
    }
   },
   "outputs": [
    {
     "data": {
      "text/plain": [
       "{2: 3, 3: 2}"
      ]
     },
     "execution_count": 11,
     "metadata": {},
     "output_type": "execute_result"
    }
   ],
   "source": [
    "# Count by compposition\n",
    "Formula.count_by_composition([\"NdSi2\", \"NdSi2\", \"NdSi2Th2\", \"NdSi2Th2\", \"ThOs\"])"
   ]
  },
  {
   "cell_type": "code",
   "execution_count": 12,
   "id": "19",
   "metadata": {
    "execution": {
     "iopub.execute_input": "2025-05-20T00:54:06.678243Z",
     "iopub.status.busy": "2025-05-20T00:54:06.678089Z",
     "iopub.status.idle": "2025-05-20T00:54:06.681324Z",
     "shell.execute_reply": "2025-05-20T00:54:06.680877Z"
    }
   },
   "outputs": [
    {
     "data": {
      "text/plain": [
       "{'Nd', 'Os', 'Si', 'Th'}"
      ]
     },
     "execution_count": 12,
     "metadata": {},
     "output_type": "execute_result"
    }
   ],
   "source": [
    "# Get unique elements only\n",
    "Formula.get_unique_elements([\"NdSi2\", \"NdSi2\", \"NdSi2Th2\", \"NdSi2Th2\", \"ThOs\"])"
   ]
  },
  {
   "cell_type": "code",
   "execution_count": 13,
   "id": "20",
   "metadata": {
    "execution": {
     "iopub.execute_input": "2025-05-20T00:54:06.682703Z",
     "iopub.status.busy": "2025-05-20T00:54:06.682458Z",
     "iopub.status.idle": "2025-05-20T00:54:06.685647Z",
     "shell.execute_reply": "2025-05-20T00:54:06.685217Z"
    }
   },
   "outputs": [
    {
     "data": {
      "text/plain": [
       "{'NdSi2', 'NdSi2Th2', 'ThOs'}"
      ]
     },
     "execution_count": 13,
     "metadata": {},
     "output_type": "execute_result"
    }
   ],
   "source": [
    "# Get unique formulas only\n",
    "Formula.get_unique_formulas([\"NdSi2\", \"NdSi2\", \"NdSi2Th2\", \"NdSi2Th2\", \"ThOs\"])"
   ]
  },
  {
   "cell_type": "code",
   "execution_count": 14,
   "id": "21",
   "metadata": {
    "execution": {
     "iopub.execute_input": "2025-05-20T00:54:06.686991Z",
     "iopub.status.busy": "2025-05-20T00:54:06.686817Z",
     "iopub.status.idle": "2025-05-20T00:54:06.690110Z",
     "shell.execute_reply": "2025-05-20T00:54:06.689647Z"
    }
   },
   "outputs": [
    {
     "data": {
      "text/plain": [
       "{'Nd': 4, 'Si': 4, 'Th': 3, 'Os': 1}"
      ]
     },
     "execution_count": 14,
     "metadata": {},
     "output_type": "execute_result"
    }
   ],
   "source": [
    "# Get element counts (ignore Stoichiometry)\n",
    "Formula.get_element_count([\"NdSi2\", \"NdSi2\", \"NdSi2Th2\", \"NdSi2Th2\", \"ThOs\"])"
   ]
  },
  {
   "cell_type": "markdown",
   "id": "22",
   "metadata": {},
   "source": [
    "### Order"
   ]
  },
  {
   "cell_type": "code",
   "execution_count": 15,
   "id": "23",
   "metadata": {
    "execution": {
     "iopub.execute_input": "2025-05-20T00:54:06.691759Z",
     "iopub.status.busy": "2025-05-20T00:54:06.691403Z",
     "iopub.status.idle": "2025-05-20T00:54:06.694593Z",
     "shell.execute_reply": "2025-05-20T00:54:06.694158Z"
    }
   },
   "outputs": [
    {
     "data": {
      "text/plain": [
       "['AB', 'AB2', 'BBC2', 'BC2D2']"
      ]
     },
     "execution_count": 15,
     "metadata": {},
     "output_type": "execute_result"
    }
   ],
   "source": [
    "# Order formulas A->Z\n",
    "Formula.order_by_alphabetical([\"AB2\", \"AB\", \"BC2D2\", \"BBC2\"])"
   ]
  },
  {
   "cell_type": "code",
   "execution_count": 16,
   "id": "24",
   "metadata": {
    "execution": {
     "iopub.execute_input": "2025-05-20T00:54:06.696162Z",
     "iopub.status.busy": "2025-05-20T00:54:06.695757Z",
     "iopub.status.idle": "2025-05-20T00:54:06.699079Z",
     "shell.execute_reply": "2025-05-20T00:54:06.698620Z"
    }
   },
   "outputs": [
    {
     "data": {
      "text/plain": [
       "['BC2D2', 'BBC2', 'AB2', 'AB']"
      ]
     },
     "execution_count": 16,
     "metadata": {},
     "output_type": "execute_result"
    }
   ],
   "source": [
    "# Order formulas Z->A\n",
    "Formula.order_by_alphabetical([\"AB2\", \"AB\", \"BC2D2\", \"BBC2\"], reverse=True)"
   ]
  },
  {
   "cell_type": "markdown",
   "id": "25",
   "metadata": {},
   "source": [
    "### Filter"
   ]
  },
  {
   "cell_type": "code",
   "execution_count": 17,
   "id": "26",
   "metadata": {
    "execution": {
     "iopub.execute_input": "2025-05-20T00:54:06.700698Z",
     "iopub.status.busy": "2025-05-20T00:54:06.700269Z",
     "iopub.status.idle": "2025-05-20T00:54:06.702706Z",
     "shell.execute_reply": "2025-05-20T00:54:06.702274Z"
    }
   },
   "outputs": [],
   "source": [
    "# Filter a list of formula by composition \n",
    "sorted_formulas = Formula.filter_by_composition([\"Cu\", \"NdSi2\", \"ThOs\", \"NdSi2Th2\", \"YNdThSi2\"])"
   ]
  },
  {
   "cell_type": "code",
   "execution_count": 18,
   "id": "27",
   "metadata": {
    "execution": {
     "iopub.execute_input": "2025-05-20T00:54:06.704132Z",
     "iopub.status.busy": "2025-05-20T00:54:06.703775Z",
     "iopub.status.idle": "2025-05-20T00:54:06.707019Z",
     "shell.execute_reply": "2025-05-20T00:54:06.706549Z"
    }
   },
   "outputs": [
    {
     "data": {
      "text/plain": [
       "['NdSi2', 'NdSi2', 'ThOs']"
      ]
     },
     "execution_count": 18,
     "metadata": {},
     "output_type": "execute_result"
    }
   ],
   "source": [
    "# Filter by composition (e.g., binary)\n",
    "Formula.filter_by_single_composition([\"NdSi2\", \"NdSi2\", \"NdSi2Th2\", \"NdSi2Th2\", \"ThOs\"], 2)"
   ]
  },
  {
   "cell_type": "code",
   "execution_count": 19,
   "id": "28",
   "metadata": {
    "execution": {
     "iopub.execute_input": "2025-05-20T00:54:06.708489Z",
     "iopub.status.busy": "2025-05-20T00:54:06.708128Z",
     "iopub.status.idle": "2025-05-20T00:54:06.711331Z",
     "shell.execute_reply": "2025-05-20T00:54:06.710889Z"
    }
   },
   "outputs": [
    {
     "data": {
      "text/plain": [
       "['NdSi2', 'NdSi2', 'NdSi2Th2', 'NdSi2Th2']"
      ]
     },
     "execution_count": 19,
     "metadata": {},
     "output_type": "execute_result"
    }
   ],
   "source": [
    "# Filter by elements containing\n",
    "Formula.filter_by_elements_containing([\"NdSi2\", \"NdSi2\", \"NdSi2Th2\", \"NdSi2Th2\", \"ThOs\"], [\"Nd\", \"Si\"])"
   ]
  },
  {
   "cell_type": "code",
   "execution_count": 20,
   "id": "29",
   "metadata": {
    "execution": {
     "iopub.execute_input": "2025-05-20T00:54:06.712949Z",
     "iopub.status.busy": "2025-05-20T00:54:06.712579Z",
     "iopub.status.idle": "2025-05-20T00:54:06.715783Z",
     "shell.execute_reply": "2025-05-20T00:54:06.715352Z"
    }
   },
   "outputs": [
    {
     "data": {
      "text/plain": [
       "['NdSi2', 'NdSi']"
      ]
     },
     "execution_count": 20,
     "metadata": {},
     "output_type": "execute_result"
    }
   ],
   "source": [
    "# Filter by elements matching\n",
    "Formula.filter_by_elements_matching([\"NdSi2\", \"NdSi\", \"NdSi2Th2\", \"NdSi2Th2\", \"ThOs\"], [\"Nd\", \"Si\"])"
   ]
  }
 ],
 "metadata": {
  "kernelspec": {
   "display_name": "bob-env",
   "language": "python",
   "name": "python3"
  },
  "language_info": {
   "codemirror_mode": {
    "name": "ipython",
    "version": 3
   },
   "file_extension": ".py",
   "mimetype": "text/x-python",
   "name": "python",
   "nbconvert_exporter": "python",
   "pygments_lexer": "ipython3",
   "version": "3.13.3"
  }
 },
 "nbformat": 4,
 "nbformat_minor": 5
}
