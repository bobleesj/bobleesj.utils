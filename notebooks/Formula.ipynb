{
 "cells": [
  {
   "cell_type": "markdown",
   "id": "0",
   "metadata": {},
   "source": [
    "# Formula\n",
    "\n",
    "There are two primary goals for this `Formula` class.\n",
    "\n",
    "1. Parse and normalize a single formula\n",
    "2. Count, order, filter a list of formulas"
   ]
  },
  {
   "cell_type": "markdown",
   "id": "1",
   "metadata": {},
   "source": [
    "## Import"
   ]
  },
  {
   "cell_type": "code",
   "execution_count": 1,
   "id": "2",
   "metadata": {
    "execution": {
     "iopub.execute_input": "2025-06-12T22:43:51.558688Z",
     "iopub.status.busy": "2025-06-12T22:43:51.558521Z",
     "iopub.status.idle": "2025-06-12T22:43:51.564105Z",
     "shell.execute_reply": "2025-06-12T22:43:51.563640Z"
    }
   },
   "outputs": [],
   "source": [
    "from bobleesj.utils.parsers.formula import Formula"
   ]
  },
  {
   "cell_type": "markdown",
   "id": "3",
   "metadata": {},
   "source": [
    "## Formula"
   ]
  },
  {
   "cell_type": "markdown",
   "id": "4",
   "metadata": {},
   "source": [
    "### Parse"
   ]
  },
  {
   "cell_type": "code",
   "execution_count": 2,
   "id": "5",
   "metadata": {
    "execution": {
     "iopub.execute_input": "2025-06-12T22:43:51.565664Z",
     "iopub.status.busy": "2025-06-12T22:43:51.565498Z",
     "iopub.status.idle": "2025-06-12T22:43:51.568925Z",
     "shell.execute_reply": "2025-06-12T22:43:51.568449Z"
    }
   },
   "outputs": [
    {
     "name": "stdout",
     "output_type": "stream",
     "text": [
      "Parsed formula: [('Nd', 1.0), ('Si', 2.0)]\n",
      "Elements: ['Nd', 'Si']\n",
      "Indices: [1.0, 2.0]\n",
      "Element count: 2\n",
      "Max, Min, Avg of indices: (2.0, 1.0, 1.5)\n"
     ]
    }
   ],
   "source": [
    "formula = Formula(\"NdSi2\")\n",
    "print(\"Parsed formula:\", formula.parsed_formula)\n",
    "print(\"Elements:\", formula.elements)\n",
    "print(\"Indices:\", formula.indices)\n",
    "print(\"Element count:\", formula.element_count)\n",
    "print(\"Max, Min, Avg of indices:\", formula.max_min_avg_index)"
   ]
  },
  {
   "cell_type": "markdown",
   "id": "6",
   "metadata": {},
   "source": [
    "### Normalize formula"
   ]
  },
  {
   "cell_type": "code",
   "execution_count": 3,
   "id": "7",
   "metadata": {
    "execution": {
     "iopub.execute_input": "2025-06-12T22:43:51.570510Z",
     "iopub.status.busy": "2025-06-12T22:43:51.570147Z",
     "iopub.status.idle": "2025-06-12T22:43:51.573120Z",
     "shell.execute_reply": "2025-06-12T22:43:51.572659Z"
    }
   },
   "outputs": [
    {
     "name": "stdout",
     "output_type": "stream",
     "text": [
      "Indices: [0.333333, 0.666667]\n",
      "Formula: Nd0.333333Si0.666667\n",
      "Parsed formula: [('Nd', 0.333333), ('Si', 0.666667)]\n"
     ]
    }
   ],
   "source": [
    "# Normalized index values, default is 6 decimal places\n",
    "print(\"Indices:\", formula.get_normalized_indices())\n",
    "print(\"Formula:\", formula.get_normalized_formula())\n",
    "print(\"Parsed formula:\", formula.get_normalized_parsed_formula())"
   ]
  },
  {
   "cell_type": "code",
   "execution_count": 4,
   "id": "8",
   "metadata": {
    "execution": {
     "iopub.execute_input": "2025-06-12T22:43:51.574507Z",
     "iopub.status.busy": "2025-06-12T22:43:51.574348Z",
     "iopub.status.idle": "2025-06-12T22:43:51.577289Z",
     "shell.execute_reply": "2025-06-12T22:43:51.576853Z"
    }
   },
   "outputs": [
    {
     "name": "stdout",
     "output_type": "stream",
     "text": [
      "Indices: [0.333, 0.667]\n",
      "Formula: Nd0.333Si0.667\n",
      "Parsed formula: [('Nd', 0.333), ('Si', 0.667)]\n"
     ]
    }
   ],
   "source": [
    "# Round to 3 decimal places\n",
    "print(\"Indices:\", formula.get_normalized_indices(decimals=3))\n",
    "print(\"Formula:\", formula.get_normalized_formula(decimals=3))\n",
    "print(\"Parsed formula:\", formula.get_normalized_parsed_formula(decimals=3))"
   ]
  },
  {
   "cell_type": "markdown",
   "id": "9",
   "metadata": {},
   "source": [
    "Sort formulas into composition type unary, binary, ternary, etc."
   ]
  },
  {
   "cell_type": "markdown",
   "id": "10",
   "metadata": {},
   "source": [
    "## Count, order, filter a list of formulas\n",
    "\n"
   ]
  },
  {
   "cell_type": "markdown",
   "id": "11",
   "metadata": {},
   "source": [
    "### Count"
   ]
  },
  {
   "cell_type": "code",
   "execution_count": 5,
   "id": "12",
   "metadata": {
    "execution": {
     "iopub.execute_input": "2025-06-12T22:43:51.578789Z",
     "iopub.status.busy": "2025-06-12T22:43:51.578523Z",
     "iopub.status.idle": "2025-06-12T22:43:51.583201Z",
     "shell.execute_reply": "2025-06-12T22:43:51.582733Z"
    }
   },
   "outputs": [
    {
     "data": {
      "text/plain": [
       "5"
      ]
     },
     "execution_count": 5,
     "metadata": {},
     "output_type": "execute_result"
    }
   ],
   "source": [
    "# Count all formulas in a list\n",
    "Formula.count([\"Cu\", \"NdSi2\", \"ThOs\", \"NdSi2Th2\", \"YNdThSi2\"])"
   ]
  },
  {
   "cell_type": "code",
   "execution_count": 6,
   "id": "13",
   "metadata": {
    "execution": {
     "iopub.execute_input": "2025-06-12T22:43:51.584566Z",
     "iopub.status.busy": "2025-06-12T22:43:51.584421Z",
     "iopub.status.idle": "2025-06-12T22:43:51.587565Z",
     "shell.execute_reply": "2025-06-12T22:43:51.587107Z"
    }
   },
   "outputs": [
    {
     "data": {
      "text/plain": [
       "2"
      ]
     },
     "execution_count": 6,
     "metadata": {},
     "output_type": "execute_result"
    }
   ],
   "source": [
    "# Count the number of unique formulas\n",
    "Formula.count_unique([\"CuNdSi2\", \"CuNdSi2\", \"YNdThSi2\"])"
   ]
  },
  {
   "cell_type": "code",
   "execution_count": 7,
   "id": "14",
   "metadata": {
    "execution": {
     "iopub.execute_input": "2025-06-12T22:43:51.588959Z",
     "iopub.status.busy": "2025-06-12T22:43:51.588807Z",
     "iopub.status.idle": "2025-06-12T22:43:51.592040Z",
     "shell.execute_reply": "2025-06-12T22:43:51.591642Z"
    }
   },
   "outputs": [
    {
     "data": {
      "text/plain": [
       "{'NdSi2': 2, 'YNdThSi2': 1}"
      ]
     },
     "execution_count": 7,
     "metadata": {},
     "output_type": "execute_result"
    }
   ],
   "source": [
    "# Count the number of occurrences of each unique formula\n",
    "Formula.count_individual([\"NdSi2\", \"NdSi2\", \"YNdThSi2\"])"
   ]
  },
  {
   "cell_type": "code",
   "execution_count": 8,
   "id": "15",
   "metadata": {
    "execution": {
     "iopub.execute_input": "2025-06-12T22:43:51.593321Z",
     "iopub.status.busy": "2025-06-12T22:43:51.593178Z",
     "iopub.status.idle": "2025-06-12T22:43:51.596378Z",
     "shell.execute_reply": "2025-06-12T22:43:51.596002Z"
    }
   },
   "outputs": [
    {
     "data": {
      "text/plain": [
       "{'NdSi2': 2, 'NdSi2Th2': 2}"
      ]
     },
     "execution_count": 8,
     "metadata": {},
     "output_type": "execute_result"
    }
   ],
   "source": [
    "# Count and display duplicate formulas only\n",
    "Formula.count_duplicates([\"NdSi2\", \"NdSi2\", \"NdSi2Th2\", \"NdSi2Th2\", \"ThOs\"])"
   ]
  },
  {
   "cell_type": "code",
   "execution_count": 9,
   "id": "16",
   "metadata": {
    "execution": {
     "iopub.execute_input": "2025-06-12T22:43:51.597665Z",
     "iopub.status.busy": "2025-06-12T22:43:51.597522Z",
     "iopub.status.idle": "2025-06-12T22:43:51.600660Z",
     "shell.execute_reply": "2025-06-12T22:43:51.600206Z"
    }
   },
   "outputs": [
    {
     "data": {
      "text/plain": [
       "2"
      ]
     },
     "execution_count": 9,
     "metadata": {},
     "output_type": "execute_result"
    }
   ],
   "source": [
    "# Count the number of formula provided\n",
    "Formula.count_by_formula([\"NdSi2\", \"NdSi2\", \"NdSi2Th2\", \"NdSi2Th2\", \"ThOs\"], \"NdSi2\")"
   ]
  },
  {
   "cell_type": "code",
   "execution_count": 10,
   "id": "17",
   "metadata": {
    "execution": {
     "iopub.execute_input": "2025-06-12T22:43:51.601993Z",
     "iopub.status.busy": "2025-06-12T22:43:51.601837Z",
     "iopub.status.idle": "2025-06-12T22:43:51.604994Z",
     "shell.execute_reply": "2025-06-12T22:43:51.604620Z"
    }
   },
   "outputs": [
    {
     "data": {
      "text/plain": [
       "2"
      ]
     },
     "execution_count": 10,
     "metadata": {},
     "output_type": "execute_result"
    }
   ],
   "source": [
    "# Count by formula\n",
    "Formula.count_by_formula([\"NdSi2\", \"NdSi2\", \"NdSi2Th2\", \"NdSi2Th2\", \"ThOs\"], \"NdSi2\")"
   ]
  },
  {
   "cell_type": "code",
   "execution_count": 11,
   "id": "18",
   "metadata": {
    "execution": {
     "iopub.execute_input": "2025-06-12T22:43:51.606550Z",
     "iopub.status.busy": "2025-06-12T22:43:51.606158Z",
     "iopub.status.idle": "2025-06-12T22:43:51.609532Z",
     "shell.execute_reply": "2025-06-12T22:43:51.609088Z"
    }
   },
   "outputs": [
    {
     "data": {
      "text/plain": [
       "{2: 3, 3: 2}"
      ]
     },
     "execution_count": 11,
     "metadata": {},
     "output_type": "execute_result"
    }
   ],
   "source": [
    "# Count by compposition\n",
    "Formula.count_by_composition([\"NdSi2\", \"NdSi2\", \"NdSi2Th2\", \"NdSi2Th2\", \"ThOs\"])"
   ]
  },
  {
   "cell_type": "code",
   "execution_count": 12,
   "id": "19",
   "metadata": {
    "execution": {
     "iopub.execute_input": "2025-06-12T22:43:51.610836Z",
     "iopub.status.busy": "2025-06-12T22:43:51.610659Z",
     "iopub.status.idle": "2025-06-12T22:43:51.614007Z",
     "shell.execute_reply": "2025-06-12T22:43:51.613543Z"
    }
   },
   "outputs": [
    {
     "data": {
      "text/plain": [
       "{'Nd', 'Os', 'Si', 'Th'}"
      ]
     },
     "execution_count": 12,
     "metadata": {},
     "output_type": "execute_result"
    }
   ],
   "source": [
    "# Get unique elements only\n",
    "Formula.get_unique_elements([\"NdSi2\", \"NdSi2\", \"NdSi2Th2\", \"NdSi2Th2\", \"ThOs\"])"
   ]
  },
  {
   "cell_type": "code",
   "execution_count": 13,
   "id": "20",
   "metadata": {
    "execution": {
     "iopub.execute_input": "2025-06-12T22:43:51.615383Z",
     "iopub.status.busy": "2025-06-12T22:43:51.615229Z",
     "iopub.status.idle": "2025-06-12T22:43:51.618354Z",
     "shell.execute_reply": "2025-06-12T22:43:51.617998Z"
    }
   },
   "outputs": [
    {
     "data": {
      "text/plain": [
       "{'NdSi2', 'NdSi2Th2', 'ThOs'}"
      ]
     },
     "execution_count": 13,
     "metadata": {},
     "output_type": "execute_result"
    }
   ],
   "source": [
    "# Get unique formulas only\n",
    "Formula.get_unique_formulas([\"NdSi2\", \"NdSi2\", \"NdSi2Th2\", \"NdSi2Th2\", \"ThOs\"])"
   ]
  },
  {
   "cell_type": "code",
   "execution_count": 14,
   "id": "21",
   "metadata": {
    "execution": {
     "iopub.execute_input": "2025-06-12T22:43:51.619741Z",
     "iopub.status.busy": "2025-06-12T22:43:51.619566Z",
     "iopub.status.idle": "2025-06-12T22:43:51.622731Z",
     "shell.execute_reply": "2025-06-12T22:43:51.622363Z"
    }
   },
   "outputs": [
    {
     "data": {
      "text/plain": [
       "{'Nd': 4, 'Si': 4, 'Th': 3, 'Os': 1}"
      ]
     },
     "execution_count": 14,
     "metadata": {},
     "output_type": "execute_result"
    }
   ],
   "source": [
    "# Get element counts (ignore Stoichiometry)\n",
    "Formula.get_element_count([\"NdSi2\", \"NdSi2\", \"NdSi2Th2\", \"NdSi2Th2\", \"ThOs\"])"
   ]
  },
  {
   "cell_type": "markdown",
   "id": "22",
   "metadata": {},
   "source": [
    "### Order"
   ]
  },
  {
   "cell_type": "code",
   "execution_count": 15,
   "id": "23",
   "metadata": {
    "execution": {
     "iopub.execute_input": "2025-06-12T22:43:51.624099Z",
     "iopub.status.busy": "2025-06-12T22:43:51.623954Z",
     "iopub.status.idle": "2025-06-12T22:43:51.626980Z",
     "shell.execute_reply": "2025-06-12T22:43:51.626603Z"
    }
   },
   "outputs": [
    {
     "data": {
      "text/plain": [
       "['AB', 'AB2', 'BBC2', 'BC2D2']"
      ]
     },
     "execution_count": 15,
     "metadata": {},
     "output_type": "execute_result"
    }
   ],
   "source": [
    "# Order formulas A->Z\n",
    "Formula.order_by_alphabetical([\"AB2\", \"AB\", \"BC2D2\", \"BBC2\"])"
   ]
  },
  {
   "cell_type": "code",
   "execution_count": 16,
   "id": "24",
   "metadata": {
    "execution": {
     "iopub.execute_input": "2025-06-12T22:43:51.628281Z",
     "iopub.status.busy": "2025-06-12T22:43:51.628136Z",
     "iopub.status.idle": "2025-06-12T22:43:51.631381Z",
     "shell.execute_reply": "2025-06-12T22:43:51.631008Z"
    }
   },
   "outputs": [
    {
     "data": {
      "text/plain": [
       "['BC2D2', 'BBC2', 'AB2', 'AB']"
      ]
     },
     "execution_count": 16,
     "metadata": {},
     "output_type": "execute_result"
    }
   ],
   "source": [
    "# Order formulas Z->A\n",
    "Formula.order_by_alphabetical([\"AB2\", \"AB\", \"BC2D2\", \"BBC2\"], reverse=True)"
   ]
  },
  {
   "cell_type": "markdown",
   "id": "25",
   "metadata": {},
   "source": [
    "### Filter"
   ]
  },
  {
   "cell_type": "code",
   "execution_count": 17,
   "id": "26",
   "metadata": {
    "execution": {
     "iopub.execute_input": "2025-06-12T22:43:51.632888Z",
     "iopub.status.busy": "2025-06-12T22:43:51.632503Z",
     "iopub.status.idle": "2025-06-12T22:43:51.635087Z",
     "shell.execute_reply": "2025-06-12T22:43:51.634620Z"
    }
   },
   "outputs": [],
   "source": [
    "# Filter a list of formula by composition \n",
    "sorted_formulas = Formula.filter_by_composition([\"Cu\", \"NdSi2\", \"ThOs\", \"NdSi2Th2\", \"YNdThSi2\"])"
   ]
  },
  {
   "cell_type": "code",
   "execution_count": 18,
   "id": "27",
   "metadata": {
    "execution": {
     "iopub.execute_input": "2025-06-12T22:43:51.636612Z",
     "iopub.status.busy": "2025-06-12T22:43:51.636366Z",
     "iopub.status.idle": "2025-06-12T22:43:51.639810Z",
     "shell.execute_reply": "2025-06-12T22:43:51.639333Z"
    }
   },
   "outputs": [
    {
     "data": {
      "text/plain": [
       "['NdSi2', 'NdSi2', 'ThOs']"
      ]
     },
     "execution_count": 18,
     "metadata": {},
     "output_type": "execute_result"
    }
   ],
   "source": [
    "# Filter by composition (e.g., binary)\n",
    "Formula.filter_by_single_composition([\"NdSi2\", \"NdSi2\", \"NdSi2Th2\", \"NdSi2Th2\", \"ThOs\"], 2)"
   ]
  },
  {
   "cell_type": "code",
   "execution_count": 19,
   "id": "28",
   "metadata": {
    "execution": {
     "iopub.execute_input": "2025-06-12T22:43:51.641174Z",
     "iopub.status.busy": "2025-06-12T22:43:51.640930Z",
     "iopub.status.idle": "2025-06-12T22:43:51.644367Z",
     "shell.execute_reply": "2025-06-12T22:43:51.643906Z"
    }
   },
   "outputs": [
    {
     "data": {
      "text/plain": [
       "['NdSi2', 'NdSi2', 'NdSi2Th2', 'NdSi2Th2']"
      ]
     },
     "execution_count": 19,
     "metadata": {},
     "output_type": "execute_result"
    }
   ],
   "source": [
    "# Filter by elements containing\n",
    "Formula.filter_by_elements_containing([\"NdSi2\", \"NdSi2\", \"NdSi2Th2\", \"NdSi2Th2\", \"ThOs\"], [\"Nd\", \"Si\"])"
   ]
  },
  {
   "cell_type": "code",
   "execution_count": 20,
   "id": "29",
   "metadata": {
    "execution": {
     "iopub.execute_input": "2025-06-12T22:43:51.645824Z",
     "iopub.status.busy": "2025-06-12T22:43:51.645650Z",
     "iopub.status.idle": "2025-06-12T22:43:51.649099Z",
     "shell.execute_reply": "2025-06-12T22:43:51.648692Z"
    }
   },
   "outputs": [
    {
     "data": {
      "text/plain": [
       "['NdSi2', 'NdSi']"
      ]
     },
     "execution_count": 20,
     "metadata": {},
     "output_type": "execute_result"
    }
   ],
   "source": [
    "# Filter by elements matching\n",
    "Formula.filter_by_elements_matching([\"NdSi2\", \"NdSi\", \"NdSi2Th2\", \"NdSi2Th2\", \"ThOs\"], [\"Nd\", \"Si\"])"
   ]
  }
 ],
 "metadata": {
  "kernelspec": {
   "display_name": "bob-env",
   "language": "python",
   "name": "python3"
  },
  "language_info": {
   "codemirror_mode": {
    "name": "ipython",
    "version": 3
   },
   "file_extension": ".py",
   "mimetype": "text/x-python",
   "name": "python",
   "nbconvert_exporter": "python",
   "pygments_lexer": "ipython3",
   "version": "3.13.5"
  }
 },
 "nbformat": 4,
 "nbformat_minor": 5
}
