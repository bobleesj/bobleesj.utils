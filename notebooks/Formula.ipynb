{
 "cells": [
  {
   "cell_type": "markdown",
   "id": "0",
   "metadata": {},
   "source": [
    "# Formula\n",
    "\n",
    "There are two primary goals for this `Formula` class.\n",
    "\n",
    "1. Parse and normalize a single formula\n",
    "2. Count, order, filter a list of formulas"
   ]
  },
  {
   "cell_type": "markdown",
   "id": "1",
   "metadata": {},
   "source": [
    "## Import"
   ]
  },
  {
   "cell_type": "code",
   "execution_count": 1,
   "id": "2",
   "metadata": {
    "execution": {
     "iopub.execute_input": "2025-06-23T13:00:29.896508Z",
     "iopub.status.busy": "2025-06-23T13:00:29.896342Z",
     "iopub.status.idle": "2025-06-23T13:00:29.902070Z",
     "shell.execute_reply": "2025-06-23T13:00:29.901583Z"
    }
   },
   "outputs": [],
   "source": [
    "from bobleesj.utils.parsers.formula import Formula"
   ]
  },
  {
   "cell_type": "markdown",
   "id": "3",
   "metadata": {},
   "source": [
    "## Formula"
   ]
  },
  {
   "cell_type": "markdown",
   "id": "4",
   "metadata": {},
   "source": [
    "### Parse"
   ]
  },
  {
   "cell_type": "code",
   "execution_count": 2,
   "id": "5",
   "metadata": {
    "execution": {
     "iopub.execute_input": "2025-06-23T13:00:29.903665Z",
     "iopub.status.busy": "2025-06-23T13:00:29.903350Z",
     "iopub.status.idle": "2025-06-23T13:00:29.906880Z",
     "shell.execute_reply": "2025-06-23T13:00:29.906442Z"
    }
   },
   "outputs": [
    {
     "name": "stdout",
     "output_type": "stream",
     "text": [
      "Parsed formula: [('Nd', 1.0), ('Si', 2.0)]\n",
      "Elements: ['Nd', 'Si']\n",
      "Indices: [1.0, 2.0]\n",
      "Element count: 2\n",
      "Max, Min, Avg of indices: (2.0, 1.0, 1.5)\n"
     ]
    }
   ],
   "source": [
    "formula = Formula(\"NdSi2\")\n",
    "print(\"Parsed formula:\", formula.parsed_formula)\n",
    "print(\"Elements:\", formula.elements)\n",
    "print(\"Indices:\", formula.indices)\n",
    "print(\"Element count:\", formula.element_count)\n",
    "print(\"Max, Min, Avg of indices:\", formula.max_min_avg_index)"
   ]
  },
  {
   "cell_type": "markdown",
   "id": "6",
   "metadata": {},
   "source": [
    "### Normalize formula"
   ]
  },
  {
   "cell_type": "code",
   "execution_count": 3,
   "id": "7",
   "metadata": {
    "execution": {
     "iopub.execute_input": "2025-06-23T13:00:29.908302Z",
     "iopub.status.busy": "2025-06-23T13:00:29.908140Z",
     "iopub.status.idle": "2025-06-23T13:00:29.911121Z",
     "shell.execute_reply": "2025-06-23T13:00:29.910718Z"
    }
   },
   "outputs": [
    {
     "name": "stdout",
     "output_type": "stream",
     "text": [
      "Indices: [0.333333, 0.666667]\n",
      "Formula: Nd0.333333Si0.666667\n",
      "Parsed formula: [('Nd', 0.333333), ('Si', 0.666667)]\n"
     ]
    }
   ],
   "source": [
    "# Normalized index values, default is 6 decimal places\n",
    "print(\"Indices:\", formula.get_normalized_indices())\n",
    "print(\"Formula:\", formula.get_normalized_formula())\n",
    "print(\"Parsed formula:\", formula.get_normalized_parsed_formula())"
   ]
  },
  {
   "cell_type": "code",
   "execution_count": 4,
   "id": "8",
   "metadata": {
    "execution": {
     "iopub.execute_input": "2025-06-23T13:00:29.912452Z",
     "iopub.status.busy": "2025-06-23T13:00:29.912295Z",
     "iopub.status.idle": "2025-06-23T13:00:29.915074Z",
     "shell.execute_reply": "2025-06-23T13:00:29.914695Z"
    }
   },
   "outputs": [
    {
     "name": "stdout",
     "output_type": "stream",
     "text": [
      "Indices: [0.333, 0.667]\n",
      "Formula: Nd0.333Si0.667\n",
      "Parsed formula: [('Nd', 0.333), ('Si', 0.667)]\n"
     ]
    }
   ],
   "source": [
    "# Round to 3 decimal places\n",
    "print(\"Indices:\", formula.get_normalized_indices(decimals=3))\n",
    "print(\"Formula:\", formula.get_normalized_formula(decimals=3))\n",
    "print(\"Parsed formula:\", formula.get_normalized_parsed_formula(decimals=3))"
   ]
  },
  {
   "cell_type": "markdown",
   "id": "9",
   "metadata": {},
   "source": [
    "Sort formulas into composition type unary, binary, ternary, etc."
   ]
  },
  {
   "cell_type": "markdown",
   "id": "10",
   "metadata": {},
   "source": [
    "## Count, order, filter a list of formulas\n",
    "\n"
   ]
  },
  {
   "cell_type": "markdown",
   "id": "11",
   "metadata": {},
   "source": [
    "### Count"
   ]
  },
  {
   "cell_type": "code",
   "execution_count": 5,
   "id": "12",
   "metadata": {
    "execution": {
     "iopub.execute_input": "2025-06-23T13:00:29.916454Z",
     "iopub.status.busy": "2025-06-23T13:00:29.916296Z",
     "iopub.status.idle": "2025-06-23T13:00:29.921223Z",
     "shell.execute_reply": "2025-06-23T13:00:29.920749Z"
    }
   },
   "outputs": [
    {
     "data": {
      "text/plain": [
       "5"
      ]
     },
     "execution_count": 5,
     "metadata": {},
     "output_type": "execute_result"
    }
   ],
   "source": [
    "# Count all formulas in a list\n",
    "Formula.count([\"Cu\", \"NdSi2\", \"ThOs\", \"NdSi2Th2\", \"YNdThSi2\"])"
   ]
  },
  {
   "cell_type": "code",
   "execution_count": 6,
   "id": "13",
   "metadata": {
    "execution": {
     "iopub.execute_input": "2025-06-23T13:00:29.922594Z",
     "iopub.status.busy": "2025-06-23T13:00:29.922433Z",
     "iopub.status.idle": "2025-06-23T13:00:29.925688Z",
     "shell.execute_reply": "2025-06-23T13:00:29.925208Z"
    }
   },
   "outputs": [
    {
     "data": {
      "text/plain": [
       "2"
      ]
     },
     "execution_count": 6,
     "metadata": {},
     "output_type": "execute_result"
    }
   ],
   "source": [
    "# Count the number of unique formulas\n",
    "Formula.count_unique([\"CuNdSi2\", \"CuNdSi2\", \"YNdThSi2\"])"
   ]
  },
  {
   "cell_type": "code",
   "execution_count": 7,
   "id": "14",
   "metadata": {
    "execution": {
     "iopub.execute_input": "2025-06-23T13:00:29.927070Z",
     "iopub.status.busy": "2025-06-23T13:00:29.926908Z",
     "iopub.status.idle": "2025-06-23T13:00:29.930102Z",
     "shell.execute_reply": "2025-06-23T13:00:29.929650Z"
    }
   },
   "outputs": [
    {
     "data": {
      "text/plain": [
       "{'NdSi2': 2, 'YNdThSi2': 1}"
      ]
     },
     "execution_count": 7,
     "metadata": {},
     "output_type": "execute_result"
    }
   ],
   "source": [
    "# Count the number of occurrences of each unique formula\n",
    "Formula.count_individual([\"NdSi2\", \"NdSi2\", \"YNdThSi2\"])"
   ]
  },
  {
   "cell_type": "code",
   "execution_count": 8,
   "id": "15",
   "metadata": {
    "execution": {
     "iopub.execute_input": "2025-06-23T13:00:29.931542Z",
     "iopub.status.busy": "2025-06-23T13:00:29.931380Z",
     "iopub.status.idle": "2025-06-23T13:00:29.934674Z",
     "shell.execute_reply": "2025-06-23T13:00:29.934198Z"
    }
   },
   "outputs": [
    {
     "data": {
      "text/plain": [
       "{'NdSi2': 2, 'NdSi2Th2': 2}"
      ]
     },
     "execution_count": 8,
     "metadata": {},
     "output_type": "execute_result"
    }
   ],
   "source": [
    "# Count and display duplicate formulas only\n",
    "Formula.count_duplicates([\"NdSi2\", \"NdSi2\", \"NdSi2Th2\", \"NdSi2Th2\", \"ThOs\"])"
   ]
  },
  {
   "cell_type": "code",
   "execution_count": 9,
   "id": "16",
   "metadata": {
    "execution": {
     "iopub.execute_input": "2025-06-23T13:00:29.936030Z",
     "iopub.status.busy": "2025-06-23T13:00:29.935869Z",
     "iopub.status.idle": "2025-06-23T13:00:29.939263Z",
     "shell.execute_reply": "2025-06-23T13:00:29.938743Z"
    }
   },
   "outputs": [
    {
     "data": {
      "text/plain": [
       "2"
      ]
     },
     "execution_count": 9,
     "metadata": {},
     "output_type": "execute_result"
    }
   ],
   "source": [
    "# Count the number of formula provided\n",
    "Formula.count_by_formula([\"NdSi2\", \"NdSi2\", \"NdSi2Th2\", \"NdSi2Th2\", \"ThOs\"], \"NdSi2\")"
   ]
  },
  {
   "cell_type": "code",
   "execution_count": 10,
   "id": "17",
   "metadata": {
    "execution": {
     "iopub.execute_input": "2025-06-23T13:00:29.940894Z",
     "iopub.status.busy": "2025-06-23T13:00:29.940699Z",
     "iopub.status.idle": "2025-06-23T13:00:29.944491Z",
     "shell.execute_reply": "2025-06-23T13:00:29.944073Z"
    }
   },
   "outputs": [
    {
     "data": {
      "text/plain": [
       "2"
      ]
     },
     "execution_count": 10,
     "metadata": {},
     "output_type": "execute_result"
    }
   ],
   "source": [
    "# Count by formula\n",
    "Formula.count_by_formula([\"NdSi2\", \"NdSi2\", \"NdSi2Th2\", \"NdSi2Th2\", \"ThOs\"], \"NdSi2\")"
   ]
  },
  {
   "cell_type": "code",
   "execution_count": 11,
   "id": "18",
   "metadata": {
    "execution": {
     "iopub.execute_input": "2025-06-23T13:00:29.946014Z",
     "iopub.status.busy": "2025-06-23T13:00:29.945700Z",
     "iopub.status.idle": "2025-06-23T13:00:29.948921Z",
     "shell.execute_reply": "2025-06-23T13:00:29.948531Z"
    }
   },
   "outputs": [
    {
     "data": {
      "text/plain": [
       "{2: 3, 3: 2}"
      ]
     },
     "execution_count": 11,
     "metadata": {},
     "output_type": "execute_result"
    }
   ],
   "source": [
    "# Count by compposition\n",
    "Formula.count_by_composition([\"NdSi2\", \"NdSi2\", \"NdSi2Th2\", \"NdSi2Th2\", \"ThOs\"])"
   ]
  },
  {
   "cell_type": "code",
   "execution_count": 12,
   "id": "19",
   "metadata": {
    "execution": {
     "iopub.execute_input": "2025-06-23T13:00:29.950293Z",
     "iopub.status.busy": "2025-06-23T13:00:29.950147Z",
     "iopub.status.idle": "2025-06-23T13:00:29.953217Z",
     "shell.execute_reply": "2025-06-23T13:00:29.952858Z"
    }
   },
   "outputs": [
    {
     "data": {
      "text/plain": [
       "{'Nd', 'Os', 'Si', 'Th'}"
      ]
     },
     "execution_count": 12,
     "metadata": {},
     "output_type": "execute_result"
    }
   ],
   "source": [
    "# Get unique elements only\n",
    "Formula.get_unique_elements([\"NdSi2\", \"NdSi2\", \"NdSi2Th2\", \"NdSi2Th2\", \"ThOs\"])"
   ]
  },
  {
   "cell_type": "code",
   "execution_count": 13,
   "id": "20",
   "metadata": {
    "execution": {
     "iopub.execute_input": "2025-06-23T13:00:29.954724Z",
     "iopub.status.busy": "2025-06-23T13:00:29.954539Z",
     "iopub.status.idle": "2025-06-23T13:00:29.957906Z",
     "shell.execute_reply": "2025-06-23T13:00:29.957420Z"
    }
   },
   "outputs": [
    {
     "data": {
      "text/plain": [
       "{'NdSi2', 'NdSi2Th2', 'ThOs'}"
      ]
     },
     "execution_count": 13,
     "metadata": {},
     "output_type": "execute_result"
    }
   ],
   "source": [
    "# Get unique formulas only\n",
    "Formula.get_unique_formulas([\"NdSi2\", \"NdSi2\", \"NdSi2Th2\", \"NdSi2Th2\", \"ThOs\"])"
   ]
  },
  {
   "cell_type": "code",
   "execution_count": 14,
   "id": "21",
   "metadata": {
    "execution": {
     "iopub.execute_input": "2025-06-23T13:00:29.959345Z",
     "iopub.status.busy": "2025-06-23T13:00:29.959186Z",
     "iopub.status.idle": "2025-06-23T13:00:29.962655Z",
     "shell.execute_reply": "2025-06-23T13:00:29.962241Z"
    }
   },
   "outputs": [
    {
     "data": {
      "text/plain": [
       "{'Nd': 4, 'Si': 4, 'Th': 3, 'Os': 1}"
      ]
     },
     "execution_count": 14,
     "metadata": {},
     "output_type": "execute_result"
    }
   ],
   "source": [
    "# Get element counts (ignore Stoichiometry)\n",
    "Formula.get_element_count([\"NdSi2\", \"NdSi2\", \"NdSi2Th2\", \"NdSi2Th2\", \"ThOs\"])"
   ]
  },
  {
   "cell_type": "markdown",
   "id": "22",
   "metadata": {},
   "source": [
    "### Order"
   ]
  },
  {
   "cell_type": "code",
   "execution_count": 15,
   "id": "23",
   "metadata": {
    "execution": {
     "iopub.execute_input": "2025-06-23T13:00:29.964058Z",
     "iopub.status.busy": "2025-06-23T13:00:29.963898Z",
     "iopub.status.idle": "2025-06-23T13:00:29.967040Z",
     "shell.execute_reply": "2025-06-23T13:00:29.966664Z"
    }
   },
   "outputs": [
    {
     "data": {
      "text/plain": [
       "['AB', 'AB2', 'BBC2', 'BC2D2']"
      ]
     },
     "execution_count": 15,
     "metadata": {},
     "output_type": "execute_result"
    }
   ],
   "source": [
    "# Order formulas A->Z\n",
    "Formula.order_by_alphabetical([\"AB2\", \"AB\", \"BC2D2\", \"BBC2\"])"
   ]
  },
  {
   "cell_type": "code",
   "execution_count": 16,
   "id": "24",
   "metadata": {
    "execution": {
     "iopub.execute_input": "2025-06-23T13:00:29.968522Z",
     "iopub.status.busy": "2025-06-23T13:00:29.968350Z",
     "iopub.status.idle": "2025-06-23T13:00:29.971786Z",
     "shell.execute_reply": "2025-06-23T13:00:29.971298Z"
    }
   },
   "outputs": [
    {
     "data": {
      "text/plain": [
       "['BC2D2', 'BBC2', 'AB2', 'AB']"
      ]
     },
     "execution_count": 16,
     "metadata": {},
     "output_type": "execute_result"
    }
   ],
   "source": [
    "# Order formulas Z->A\n",
    "Formula.order_by_alphabetical([\"AB2\", \"AB\", \"BC2D2\", \"BBC2\"], reverse=True)"
   ]
  },
  {
   "cell_type": "markdown",
   "id": "25",
   "metadata": {},
   "source": [
    "### Filter"
   ]
  },
  {
   "cell_type": "code",
   "execution_count": 17,
   "id": "26",
   "metadata": {
    "execution": {
     "iopub.execute_input": "2025-06-23T13:00:29.973156Z",
     "iopub.status.busy": "2025-06-23T13:00:29.973012Z",
     "iopub.status.idle": "2025-06-23T13:00:29.975397Z",
     "shell.execute_reply": "2025-06-23T13:00:29.975033Z"
    }
   },
   "outputs": [],
   "source": [
    "# Filter a list of formula by composition \n",
    "sorted_formulas = Formula.filter_by_composition([\"Cu\", \"NdSi2\", \"ThOs\", \"NdSi2Th2\", \"YNdThSi2\"])"
   ]
  },
  {
   "cell_type": "code",
   "execution_count": 18,
   "id": "27",
   "metadata": {
    "execution": {
     "iopub.execute_input": "2025-06-23T13:00:29.976728Z",
     "iopub.status.busy": "2025-06-23T13:00:29.976537Z",
     "iopub.status.idle": "2025-06-23T13:00:29.979867Z",
     "shell.execute_reply": "2025-06-23T13:00:29.979417Z"
    }
   },
   "outputs": [
    {
     "data": {
      "text/plain": [
       "['NdSi2', 'NdSi2', 'ThOs']"
      ]
     },
     "execution_count": 18,
     "metadata": {},
     "output_type": "execute_result"
    }
   ],
   "source": [
    "# Filter by composition (e.g., binary)\n",
    "Formula.filter_by_single_composition([\"NdSi2\", \"NdSi2\", \"NdSi2Th2\", \"NdSi2Th2\", \"ThOs\"], 2)"
   ]
  },
  {
   "cell_type": "code",
   "execution_count": 19,
   "id": "28",
   "metadata": {
    "execution": {
     "iopub.execute_input": "2025-06-23T13:00:29.981281Z",
     "iopub.status.busy": "2025-06-23T13:00:29.981032Z",
     "iopub.status.idle": "2025-06-23T13:00:29.984480Z",
     "shell.execute_reply": "2025-06-23T13:00:29.984016Z"
    }
   },
   "outputs": [
    {
     "data": {
      "text/plain": [
       "['NdSi2', 'NdSi2', 'NdSi2Th2', 'NdSi2Th2']"
      ]
     },
     "execution_count": 19,
     "metadata": {},
     "output_type": "execute_result"
    }
   ],
   "source": [
    "# Filter by elements containing\n",
    "Formula.filter_by_elements_containing([\"NdSi2\", \"NdSi2\", \"NdSi2Th2\", \"NdSi2Th2\", \"ThOs\"], [\"Nd\", \"Si\"])"
   ]
  },
  {
   "cell_type": "code",
   "execution_count": 20,
   "id": "29",
   "metadata": {
    "execution": {
     "iopub.execute_input": "2025-06-23T13:00:29.986167Z",
     "iopub.status.busy": "2025-06-23T13:00:29.985870Z",
     "iopub.status.idle": "2025-06-23T13:00:29.989719Z",
     "shell.execute_reply": "2025-06-23T13:00:29.989246Z"
    }
   },
   "outputs": [
    {
     "data": {
      "text/plain": [
       "['NdSi2', 'NdSi']"
      ]
     },
     "execution_count": 20,
     "metadata": {},
     "output_type": "execute_result"
    }
   ],
   "source": [
    "# Filter by elements matching\n",
    "Formula.filter_by_elements_matching([\"NdSi2\", \"NdSi\", \"NdSi2Th2\", \"NdSi2Th2\", \"ThOs\"], [\"Nd\", \"Si\"])"
   ]
  }
 ],
 "metadata": {
  "kernelspec": {
   "display_name": "bob-env",
   "language": "python",
   "name": "python3"
  },
  "language_info": {
   "codemirror_mode": {
    "name": "ipython",
    "version": 3
   },
   "file_extension": ".py",
   "mimetype": "text/x-python",
   "name": "python",
   "nbconvert_exporter": "python",
   "pygments_lexer": "ipython3",
   "version": "3.13.5"
  }
 },
 "nbformat": 4,
 "nbformat_minor": 5
}
