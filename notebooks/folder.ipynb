{
 "cells": [
  {
   "cell_type": "markdown",
   "id": "0",
   "metadata": {
    "tags": [
     "raises-error"
    ]
   },
   "source": [
    "# Folder\n",
    "\n",
    "`folder.py` offers helper functions to work folders and files."
   ]
  },
  {
   "cell_type": "code",
   "execution_count": 1,
   "id": "1",
   "metadata": {
    "execution": {
     "iopub.execute_input": "2025-06-23T12:37:43.293424Z",
     "iopub.status.busy": "2025-06-23T12:37:43.293259Z",
     "iopub.status.idle": "2025-06-23T12:37:43.297778Z",
     "shell.execute_reply": "2025-06-23T12:37:43.297313Z"
    }
   },
   "outputs": [],
   "source": [
    "from bobleesj.utils.io import folder"
   ]
  },
  {
   "cell_type": "code",
   "execution_count": 2,
   "id": "2",
   "metadata": {
    "execution": {
     "iopub.execute_input": "2025-06-23T12:37:43.299315Z",
     "iopub.status.busy": "2025-06-23T12:37:43.299138Z",
     "iopub.status.idle": "2025-06-23T12:37:43.301890Z",
     "shell.execute_reply": "2025-06-23T12:37:43.301536Z"
    }
   },
   "outputs": [],
   "source": [
    "# Get a list of file paths from the given directory\n",
    "paths = folder.get_file_paths(\n",
    "    \"/\", ext=\".pdf\")"
   ]
  },
  {
   "cell_type": "code",
   "execution_count": 3,
   "id": "3",
   "metadata": {
    "execution": {
     "iopub.execute_input": "2025-06-23T12:37:43.303234Z",
     "iopub.status.busy": "2025-06-23T12:37:43.303063Z",
     "iopub.status.idle": "2025-06-23T12:37:43.307998Z",
     "shell.execute_reply": "2025-06-23T12:37:43.307636Z"
    }
   },
   "outputs": [
    {
     "data": {
      "text/plain": [
       "False"
      ]
     },
     "execution_count": 3,
     "metadata": {},
     "output_type": "execute_result"
    }
   ],
   "source": [
    "# Check whether the folder contains the specify file type\n",
    "folder.contains_file_type(\n",
    "    \"/\", ext=\".pdf\")"
   ]
  }
 ],
 "metadata": {
  "kernelspec": {
   "display_name": "bob-env",
   "language": "python",
   "name": "python3"
  },
  "language_info": {
   "codemirror_mode": {
    "name": "ipython",
    "version": 3
   },
   "file_extension": ".py",
   "mimetype": "text/x-python",
   "name": "python",
   "nbconvert_exporter": "python",
   "pygments_lexer": "ipython3",
   "version": "3.13.5"
  }
 },
 "nbformat": 4,
 "nbformat_minor": 5
}
