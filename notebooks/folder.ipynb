{
 "cells": [
  {
   "cell_type": "markdown",
   "id": "0",
   "metadata": {
    "tags": [
     "raises-error"
    ]
   },
   "source": [
    "# Folder\n",
    "\n",
    "`folder.py` offers helper functions to work folders and files."
   ]
  },
  {
   "cell_type": "code",
   "execution_count": 1,
   "id": "1",
   "metadata": {
    "execution": {
     "iopub.execute_input": "2025-06-23T13:00:33.014506Z",
     "iopub.status.busy": "2025-06-23T13:00:33.014343Z",
     "iopub.status.idle": "2025-06-23T13:00:33.018625Z",
     "shell.execute_reply": "2025-06-23T13:00:33.018272Z"
    }
   },
   "outputs": [],
   "source": [
    "from bobleesj.utils.io import folder"
   ]
  },
  {
   "cell_type": "code",
   "execution_count": 2,
   "id": "2",
   "metadata": {
    "execution": {
     "iopub.execute_input": "2025-06-23T13:00:33.020064Z",
     "iopub.status.busy": "2025-06-23T13:00:33.019905Z",
     "iopub.status.idle": "2025-06-23T13:00:33.022410Z",
     "shell.execute_reply": "2025-06-23T13:00:33.022059Z"
    }
   },
   "outputs": [],
   "source": [
    "# Get a list of file paths from the given directory\n",
    "paths = folder.get_file_paths(\n",
    "    \"/\", ext=\".pdf\")"
   ]
  },
  {
   "cell_type": "code",
   "execution_count": 3,
   "id": "3",
   "metadata": {
    "execution": {
     "iopub.execute_input": "2025-06-23T13:00:33.023737Z",
     "iopub.status.busy": "2025-06-23T13:00:33.023560Z",
     "iopub.status.idle": "2025-06-23T13:00:33.028095Z",
     "shell.execute_reply": "2025-06-23T13:00:33.027759Z"
    }
   },
   "outputs": [
    {
     "data": {
      "text/plain": [
       "False"
      ]
     },
     "execution_count": 3,
     "metadata": {},
     "output_type": "execute_result"
    }
   ],
   "source": [
    "# Check whether the folder contains the specify file type\n",
    "folder.contains_file_type(\n",
    "    \"/\", ext=\".pdf\")"
   ]
  }
 ],
 "metadata": {
  "kernelspec": {
   "display_name": "bob-env",
   "language": "python",
   "name": "python3"
  },
  "language_info": {
   "codemirror_mode": {
    "name": "ipython",
    "version": 3
   },
   "file_extension": ".py",
   "mimetype": "text/x-python",
   "name": "python",
   "nbconvert_exporter": "python",
   "pygments_lexer": "ipython3",
   "version": "3.13.5"
  }
 },
 "nbformat": 4,
 "nbformat_minor": 5
}
