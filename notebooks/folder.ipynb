{
 "cells": [
  {
   "cell_type": "markdown",
   "id": "0",
   "metadata": {
    "tags": [
     "raises-error"
    ]
   },
   "source": [
    "# Folder\n",
    "\n",
    "`folder.py` offers helper functions to work folders and files."
   ]
  },
  {
   "cell_type": "code",
   "execution_count": 1,
   "id": "1",
   "metadata": {
    "execution": {
     "iopub.execute_input": "2025-06-25T13:00:39.268331Z",
     "iopub.status.busy": "2025-06-25T13:00:39.268168Z",
     "iopub.status.idle": "2025-06-25T13:00:39.272490Z",
     "shell.execute_reply": "2025-06-25T13:00:39.272036Z"
    }
   },
   "outputs": [],
   "source": [
    "from bobleesj.utils.io import folder"
   ]
  },
  {
   "cell_type": "code",
   "execution_count": 2,
   "id": "2",
   "metadata": {
    "execution": {
     "iopub.execute_input": "2025-06-25T13:00:39.274162Z",
     "iopub.status.busy": "2025-06-25T13:00:39.273972Z",
     "iopub.status.idle": "2025-06-25T13:00:39.276726Z",
     "shell.execute_reply": "2025-06-25T13:00:39.276349Z"
    }
   },
   "outputs": [],
   "source": [
    "# Get a list of file paths from the given directory\n",
    "paths = folder.get_file_paths(\n",
    "    \"/\", ext=\".pdf\")"
   ]
  },
  {
   "cell_type": "code",
   "execution_count": 3,
   "id": "3",
   "metadata": {
    "execution": {
     "iopub.execute_input": "2025-06-25T13:00:39.278167Z",
     "iopub.status.busy": "2025-06-25T13:00:39.277992Z",
     "iopub.status.idle": "2025-06-25T13:00:39.283040Z",
     "shell.execute_reply": "2025-06-25T13:00:39.282649Z"
    }
   },
   "outputs": [
    {
     "data": {
      "text/plain": [
       "False"
      ]
     },
     "execution_count": 3,
     "metadata": {},
     "output_type": "execute_result"
    }
   ],
   "source": [
    "# Check whether the folder contains the specify file type\n",
    "folder.contains_file_type(\n",
    "    \"/\", ext=\".pdf\")"
   ]
  }
 ],
 "metadata": {
  "kernelspec": {
   "display_name": "bob-env",
   "language": "python",
   "name": "python3"
  },
  "language_info": {
   "codemirror_mode": {
    "name": "ipython",
    "version": 3
   },
   "file_extension": ".py",
   "mimetype": "text/x-python",
   "name": "python",
   "nbconvert_exporter": "python",
   "pygments_lexer": "ipython3",
   "version": "3.13.5"
  }
 },
 "nbformat": 4,
 "nbformat_minor": 5
}
