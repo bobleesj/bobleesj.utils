{
 "cells": [
  {
   "cell_type": "markdown",
   "id": "0",
   "metadata": {},
   "source": [
    "# ElementSorter"
   ]
  },
  {
   "cell_type": "markdown",
   "id": "1",
   "metadata": {},
   "source": [
    "The goal is to sort a list of elements based on many methods."
   ]
  },
  {
   "cell_type": "code",
   "execution_count": 1,
   "id": "2",
   "metadata": {
    "execution": {
     "iopub.execute_input": "2025-06-25T13:00:34.457260Z",
     "iopub.status.busy": "2025-06-25T13:00:34.457099Z",
     "iopub.status.idle": "2025-06-25T13:00:34.666083Z",
     "shell.execute_reply": "2025-06-25T13:00:34.665518Z"
    }
   },
   "outputs": [],
   "source": [
    "from bobleesj.utils.sorters.element_sorter import ElementSorter"
   ]
  },
  {
   "cell_type": "markdown",
   "id": "3",
   "metadata": {},
   "source": [
    "## Method 1. By alphabetical order"
   ]
  },
  {
   "cell_type": "code",
   "execution_count": 2,
   "id": "4",
   "metadata": {
    "execution": {
     "iopub.execute_input": "2025-06-25T13:00:34.668182Z",
     "iopub.status.busy": "2025-06-25T13:00:34.667687Z",
     "iopub.status.idle": "2025-06-25T13:00:34.672917Z",
     "shell.execute_reply": "2025-06-25T13:00:34.672481Z"
    }
   },
   "outputs": [
    {
     "data": {
      "text/plain": [
       "('Si', 'Fe')"
      ]
     },
     "execution_count": 2,
     "metadata": {},
     "output_type": "execute_result"
    }
   ],
   "source": [
    "# Fe=55, Si=78\n",
    "element_sorter = ElementSorter()\n",
    "element_sorter.sort([\"Fe\", \"Si\"])"
   ]
  },
  {
   "cell_type": "markdown",
   "id": "5",
   "metadata": {},
   "source": [
    "## Method 2. By custom label"
   ]
  },
  {
   "cell_type": "code",
   "execution_count": 3,
   "id": "6",
   "metadata": {
    "execution": {
     "iopub.execute_input": "2025-06-25T13:00:34.674353Z",
     "iopub.status.busy": "2025-06-25T13:00:34.674188Z",
     "iopub.status.idle": "2025-06-25T13:00:34.677370Z",
     "shell.execute_reply": "2025-06-25T13:00:34.676971Z"
    }
   },
   "outputs": [],
   "source": [
    "label_mapping = {\n",
    "    2: {\"A\": [\"Fe\", \"Co\", \"Ni\"], \"B\": [\"Si\", \"Ga\", \"Ge\"]},\n",
    "    3: {\n",
    "        \"R\": [\"Sc\", \"Y\", \"La\"],\n",
    "        \"M\": [\"Fe\", \"Co\", \"Ni\"],\n",
    "        \"X\": [\"Si\", \"Ga\", \"Ge\"],\n",
    "    },\n",
    "    4: {\n",
    "        \"A\": [\"Sc\", \"Y\", \"La\"],\n",
    "        \"B\": [\"Fe\", \"Co\", \"Ni\"],\n",
    "        \"C\": [\"Si\", \"Ga\", \"Ge\"],\n",
    "        \"D\": [\"Gd\", \"Tb\", \"Dy\"],\n",
    "    },\n",
    "}"
   ]
  },
  {
   "cell_type": "code",
   "execution_count": 4,
   "id": "7",
   "metadata": {
    "execution": {
     "iopub.execute_input": "2025-06-25T13:00:34.678884Z",
     "iopub.status.busy": "2025-06-25T13:00:34.678625Z",
     "iopub.status.idle": "2025-06-25T13:00:34.680978Z",
     "shell.execute_reply": "2025-06-25T13:00:34.680591Z"
    }
   },
   "outputs": [],
   "source": [
    "element_sorter = ElementSorter(label_mapping=label_mapping)\n",
    "# You can optionally pass an Excel path instead of label mapping\n",
    "# element_sorter = ElementSorter(excel_path=\"path/to/excel.xlsx\")\n",
    "# Use the template Excel file provided in https://github.com/bobleesj/bobleesj.utils/blob/main/tests/data/sort/test-custom-labels.xlsx"
   ]
  },
  {
   "cell_type": "code",
   "execution_count": 5,
   "id": "8",
   "metadata": {
    "execution": {
     "iopub.execute_input": "2025-06-25T13:00:34.682259Z",
     "iopub.status.busy": "2025-06-25T13:00:34.682103Z",
     "iopub.status.idle": "2025-06-25T13:00:34.684487Z",
     "shell.execute_reply": "2025-06-25T13:00:34.684096Z"
    }
   },
   "outputs": [],
   "source": [
    "assert element_sorter.label_mapping == label_mapping"
   ]
  },
  {
   "cell_type": "code",
   "execution_count": 6,
   "id": "9",
   "metadata": {
    "execution": {
     "iopub.execute_input": "2025-06-25T13:00:34.685830Z",
     "iopub.status.busy": "2025-06-25T13:00:34.685653Z",
     "iopub.status.idle": "2025-06-25T13:00:34.688470Z",
     "shell.execute_reply": "2025-06-25T13:00:34.688081Z"
    }
   },
   "outputs": [],
   "source": [
    "test_cases = [\n",
    "    ([\"Fe\", \"Si\"], (\"Fe\", \"Si\")),\n",
    "    ([\"Si\", \"Fe\"], (\"Fe\", \"Si\")),\n",
    "    ([\"Ge\", \"Ni\"], (\"Ni\", \"Ge\")),\n",
    "    ([\"Ga\", \"Co\"], (\"Co\", \"Ga\")),\n",
    "]\n",
    "for input_elements, expected in test_cases:\n",
    "    assert element_sorter.sort(input_elements, method=\"custom\") == expected"
   ]
  },
  {
   "cell_type": "markdown",
   "id": "10",
   "metadata": {},
   "source": [
    "## Method 3. By Mendeleev number\n",
    "\n",
    "The list of Mendeleev numbers is sourced from `bobleesj.utils`."
   ]
  },
  {
   "cell_type": "code",
   "execution_count": 7,
   "id": "11",
   "metadata": {
    "execution": {
     "iopub.execute_input": "2025-06-25T13:00:34.689872Z",
     "iopub.status.busy": "2025-06-25T13:00:34.689688Z",
     "iopub.status.idle": "2025-06-25T13:00:34.692960Z",
     "shell.execute_reply": "2025-06-25T13:00:34.692472Z"
    }
   },
   "outputs": [
    {
     "data": {
      "text/plain": [
       "('Si', 'Fe')"
      ]
     },
     "execution_count": 7,
     "metadata": {},
     "output_type": "execute_result"
    }
   ],
   "source": [
    "# Fe=55, Si=78\n",
    "element_sorter.sort([\"Fe\", \"Si\"], method=\"mendeleev\")"
   ]
  },
  {
   "cell_type": "code",
   "execution_count": 8,
   "id": "12",
   "metadata": {
    "execution": {
     "iopub.execute_input": "2025-06-25T13:00:34.694348Z",
     "iopub.status.busy": "2025-06-25T13:00:34.694191Z",
     "iopub.status.idle": "2025-06-25T13:00:34.697569Z",
     "shell.execute_reply": "2025-06-25T13:00:34.697099Z"
    }
   },
   "outputs": [
    {
     "data": {
      "text/plain": [
       "('Fe', 'Si')"
      ]
     },
     "execution_count": 8,
     "metadata": {},
     "output_type": "execute_result"
    }
   ],
   "source": [
    "element_sorter.sort([\"Fe\", \"Si\"], method=\"mendeleev\", descending=False)"
   ]
  }
 ],
 "metadata": {
  "kernelspec": {
   "display_name": "test-env",
   "language": "python",
   "name": "python3"
  },
  "language_info": {
   "codemirror_mode": {
    "name": "ipython",
    "version": 3
   },
   "file_extension": ".py",
   "mimetype": "text/x-python",
   "name": "python",
   "nbconvert_exporter": "python",
   "pygments_lexer": "ipython3",
   "version": "3.13.5"
  }
 },
 "nbformat": 4,
 "nbformat_minor": 5
}
