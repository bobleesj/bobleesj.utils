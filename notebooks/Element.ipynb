{
 "cells": [
  {
   "cell_type": "markdown",
   "id": "0",
   "metadata": {},
   "source": [
    "# Element\n",
    "\n",
    "The goal is to help you avoid mistakes by not typing anything. It supports all 118 elements in the periodic table."
   ]
  },
  {
   "cell_type": "code",
   "execution_count": 1,
   "id": "1",
   "metadata": {
    "execution": {
     "iopub.execute_input": "2025-06-24T13:42:14.699694Z",
     "iopub.status.busy": "2025-06-24T13:42:14.699504Z",
     "iopub.status.idle": "2025-06-24T13:42:14.704917Z",
     "shell.execute_reply": "2025-06-24T13:42:14.704565Z"
    }
   },
   "outputs": [],
   "source": [
    "from bobleesj.utils.data.element import Element\n",
    "from bobleesj.utils.data.element import Element as E"
   ]
  },
  {
   "cell_type": "code",
   "execution_count": 2,
   "id": "2",
   "metadata": {
    "execution": {
     "iopub.execute_input": "2025-06-24T13:42:14.706251Z",
     "iopub.status.busy": "2025-06-24T13:42:14.706086Z",
     "iopub.status.idle": "2025-06-24T13:42:14.710787Z",
     "shell.execute_reply": "2025-06-24T13:42:14.710306Z"
    }
   },
   "outputs": [
    {
     "data": {
      "text/plain": [
       "'H'"
      ]
     },
     "execution_count": 2,
     "metadata": {},
     "output_type": "execute_result"
    }
   ],
   "source": [
    "# Get the symbol of the element\n",
    "E.H.symbol"
   ]
  },
  {
   "cell_type": "code",
   "execution_count": 3,
   "id": "3",
   "metadata": {
    "execution": {
     "iopub.execute_input": "2025-06-24T13:42:14.712235Z",
     "iopub.status.busy": "2025-06-24T13:42:14.712055Z",
     "iopub.status.idle": "2025-06-24T13:42:14.715264Z",
     "shell.execute_reply": "2025-06-24T13:42:14.714886Z"
    }
   },
   "outputs": [
    {
     "data": {
      "text/plain": [
       "'Hydrogen'"
      ]
     },
     "execution_count": 3,
     "metadata": {},
     "output_type": "execute_result"
    }
   ],
   "source": [
    "# Get the full name of the element\n",
    "E.H.full_name"
   ]
  },
  {
   "cell_type": "code",
   "execution_count": 4,
   "id": "4",
   "metadata": {
    "execution": {
     "iopub.execute_input": "2025-06-24T13:42:14.716606Z",
     "iopub.status.busy": "2025-06-24T13:42:14.716434Z",
     "iopub.status.idle": "2025-06-24T13:42:14.718993Z",
     "shell.execute_reply": "2025-06-24T13:42:14.718610Z"
    }
   },
   "outputs": [],
   "source": [
    "# Feel free to create helper functions to make you type\n",
    "def get_element_info(element: Element) -> tuple[str, str]:\n",
    "    \"\"\"Parse the symbol and full name of the element.\"\"\"\n",
    "    return element.symbol, element.full_name"
   ]
  },
  {
   "cell_type": "code",
   "execution_count": 5,
   "id": "5",
   "metadata": {
    "execution": {
     "iopub.execute_input": "2025-06-24T13:42:14.720279Z",
     "iopub.status.busy": "2025-06-24T13:42:14.720121Z",
     "iopub.status.idle": "2025-06-24T13:42:14.722918Z",
     "shell.execute_reply": "2025-06-24T13:42:14.722508Z"
    }
   },
   "outputs": [
    {
     "name": "stdout",
     "output_type": "stream",
     "text": [
      "Symbol: P, Full Name: Phosphorus\n"
     ]
    }
   ],
   "source": [
    "symbol, full_name = get_element_info(E.P)\n",
    "print(f\"Symbol: {symbol}, Full Name: {full_name}\")"
   ]
  }
 ],
 "metadata": {
  "kernelspec": {
   "display_name": "bob-env",
   "language": "python",
   "name": "python3"
  },
  "language_info": {
   "codemirror_mode": {
    "name": "ipython",
    "version": 3
   },
   "file_extension": ".py",
   "mimetype": "text/x-python",
   "name": "python",
   "nbconvert_exporter": "python",
   "pygments_lexer": "ipython3",
   "version": "3.13.5"
  }
 },
 "nbformat": 4,
 "nbformat_minor": 5
}
