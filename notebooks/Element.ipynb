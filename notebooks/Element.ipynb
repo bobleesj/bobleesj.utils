{
 "cells": [
  {
   "cell_type": "markdown",
   "id": "0",
   "metadata": {},
   "source": [
    "# Element\n",
    "\n",
    "The goal is to help you avoid mistakes by not typing anything. It supports all 118 elements in the periodic table."
   ]
  },
  {
   "cell_type": "code",
   "execution_count": 1,
   "id": "1",
   "metadata": {
    "execution": {
     "iopub.execute_input": "2025-06-01T19:49:56.957019Z",
     "iopub.status.busy": "2025-06-01T19:49:56.956630Z",
     "iopub.status.idle": "2025-06-01T19:49:56.961564Z",
     "shell.execute_reply": "2025-06-01T19:49:56.961207Z"
    }
   },
   "outputs": [],
   "source": [
    "from bobleesj.utils.data.element import Element\n",
    "from bobleesj.utils.data.element import Element as E"
   ]
  },
  {
   "cell_type": "code",
   "execution_count": 2,
   "id": "2",
   "metadata": {
    "execution": {
     "iopub.execute_input": "2025-06-01T19:49:56.962962Z",
     "iopub.status.busy": "2025-06-01T19:49:56.962816Z",
     "iopub.status.idle": "2025-06-01T19:49:56.967247Z",
     "shell.execute_reply": "2025-06-01T19:49:56.966797Z"
    }
   },
   "outputs": [
    {
     "data": {
      "text/plain": [
       "'H'"
      ]
     },
     "execution_count": 2,
     "metadata": {},
     "output_type": "execute_result"
    }
   ],
   "source": [
    "# Get the symbol of the element\n",
    "E.H.symbol"
   ]
  },
  {
   "cell_type": "code",
   "execution_count": 3,
   "id": "3",
   "metadata": {
    "execution": {
     "iopub.execute_input": "2025-06-01T19:49:56.968772Z",
     "iopub.status.busy": "2025-06-01T19:49:56.968478Z",
     "iopub.status.idle": "2025-06-01T19:49:56.971373Z",
     "shell.execute_reply": "2025-06-01T19:49:56.971021Z"
    }
   },
   "outputs": [
    {
     "data": {
      "text/plain": [
       "'Hydrogen'"
      ]
     },
     "execution_count": 3,
     "metadata": {},
     "output_type": "execute_result"
    }
   ],
   "source": [
    "# Get the full name of the element\n",
    "E.H.full_name"
   ]
  },
  {
   "cell_type": "code",
   "execution_count": 4,
   "id": "4",
   "metadata": {
    "execution": {
     "iopub.execute_input": "2025-06-01T19:49:56.972760Z",
     "iopub.status.busy": "2025-06-01T19:49:56.972603Z",
     "iopub.status.idle": "2025-06-01T19:49:56.974934Z",
     "shell.execute_reply": "2025-06-01T19:49:56.974587Z"
    }
   },
   "outputs": [],
   "source": [
    "# Feel free to create helper functions to make you type\n",
    "def get_element_info(element: Element) -> tuple[str, str]:\n",
    "    \"\"\"Parse the symbol and full name of the element.\"\"\"\n",
    "    return element.symbol, element.full_name"
   ]
  },
  {
   "cell_type": "code",
   "execution_count": 5,
   "id": "5",
   "metadata": {
    "execution": {
     "iopub.execute_input": "2025-06-01T19:49:56.976245Z",
     "iopub.status.busy": "2025-06-01T19:49:56.976092Z",
     "iopub.status.idle": "2025-06-01T19:49:56.978644Z",
     "shell.execute_reply": "2025-06-01T19:49:56.978282Z"
    }
   },
   "outputs": [
    {
     "name": "stdout",
     "output_type": "stream",
     "text": [
      "Symbol: P, Full Name: Phosphorus\n"
     ]
    }
   ],
   "source": [
    "symbol, full_name = get_element_info(E.P)\n",
    "print(f\"Symbol: {symbol}, Full Name: {full_name}\")"
   ]
  }
 ],
 "metadata": {
  "kernelspec": {
   "display_name": "bob-env",
   "language": "python",
   "name": "python3"
  },
  "language_info": {
   "codemirror_mode": {
    "name": "ipython",
    "version": 3
   },
   "file_extension": ".py",
   "mimetype": "text/x-python",
   "name": "python",
   "nbconvert_exporter": "python",
   "pygments_lexer": "ipython3",
   "version": "3.13.3"
  }
 },
 "nbformat": 4,
 "nbformat_minor": 5
}
